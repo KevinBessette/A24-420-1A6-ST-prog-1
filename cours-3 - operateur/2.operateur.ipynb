{
 "cells": [
  {
   "cell_type": "markdown",
   "metadata": {},
   "source": [
    "Les opérateurs arithmétiques de base en C# sont les suivants:\n",
    "\n",
    "- Addition : +\n",
    "- Concaténation : +\n",
    "- Interpolation: $\"{}\"\n",
    "- Soustraction : -\n",
    "- Multiplication : *\n",
    "- Division : /\n",
    "- Modulo : %\n",
    "- Incrémentation de 1 : ++\n",
    "- Décrémentation de 1 : --\n",
    "- Incrémentation multiple: +=\n",
    "- Décrémentation multiple: -="
   ]
  },
  {
   "cell_type": "markdown",
   "metadata": {},
   "source": [
    "Exemple d'addition"
   ]
  },
  {
   "cell_type": "code",
   "execution_count": 1,
   "metadata": {
    "dotnet_interactive": {
     "language": "csharp"
    },
    "polyglot_notebook": {
     "kernelName": "csharp"
    },
    "vscode": {
     "languageId": "polyglot-notebook"
    }
   },
   "outputs": [
    {
     "name": "stdout",
     "output_type": "stream",
     "text": [
      "7\r\n"
     ]
    }
   ],
   "source": [
    "int a = 5;\n",
    "int b = 2;\n",
    "int resultat = a + b;\n",
    "Console.WriteLine(resultat);"
   ]
  },
  {
   "cell_type": "markdown",
   "metadata": {},
   "source": [
    "Exemple de concaténation"
   ]
  },
  {
   "cell_type": "code",
   "execution_count": 2,
   "metadata": {
    "dotnet_interactive": {
     "language": "csharp"
    },
    "polyglot_notebook": {
     "kernelName": "csharp"
    },
    "vscode": {
     "languageId": "polyglot-notebook"
    }
   },
   "outputs": [
    {
     "name": "stdout",
     "output_type": "stream",
     "text": [
      "Alan Turing\r\n"
     ]
    }
   ],
   "source": [
    "string firstName = \"Alan\";\n",
    "string lastName = \"Turing\";\n",
    "Console.WriteLine(firstName + \" \" + lastName);"
   ]
  },
  {
   "cell_type": "markdown",
   "metadata": {},
   "source": [
    "Exemple sur un caractère"
   ]
  },
  {
   "cell_type": "code",
   "execution_count": 4,
   "metadata": {
    "vscode": {
     "languageId": "polyglot-notebook"
    }
   },
   "outputs": [
    {
     "name": "stdout",
     "output_type": "stream",
     "text": [
      "h\r\n"
     ]
    }
   ],
   "source": [
    "char a = 'g';\n",
    "a++;\n",
    "Console.WriteLine(a)"
   ]
  },
  {
   "cell_type": "markdown",
   "metadata": {},
   "source": [
    "Exemple d'interpolation"
   ]
  },
  {
   "cell_type": "code",
   "execution_count": 6,
   "metadata": {
    "dotnet_interactive": {
     "language": "csharp"
    },
    "polyglot_notebook": {
     "kernelName": "csharp"
    },
    "vscode": {
     "languageId": "polyglot-notebook"
    }
   },
   "outputs": [
    {
     "name": "stdout",
     "output_type": "stream",
     "text": [
      "Je suis Alan, Turing.\r\n"
     ]
    }
   ],
   "source": [
    "string firstName = \"Alan\";\n",
    "string lastName = \"Turing\";\n",
    "Console.WriteLine($\"Je suis {firstName}, {lastName}.\");"
   ]
  },
  {
   "cell_type": "markdown",
   "metadata": {},
   "source": [
    "Exemple de soustration"
   ]
  },
  {
   "cell_type": "code",
   "execution_count": 7,
   "metadata": {
    "dotnet_interactive": {
     "language": "csharp"
    },
    "polyglot_notebook": {
     "kernelName": "csharp"
    },
    "vscode": {
     "languageId": "polyglot-notebook"
    }
   },
   "outputs": [
    {
     "name": "stdout",
     "output_type": "stream",
     "text": [
      "3\r\n"
     ]
    }
   ],
   "source": [
    "int a = 5;\n",
    "int b = 2;\n",
    "int resultat = a - b;\n",
    "Console.WriteLine(resultat);"
   ]
  },
  {
   "cell_type": "markdown",
   "metadata": {},
   "source": [
    "Exemple de multiplication"
   ]
  },
  {
   "cell_type": "code",
   "execution_count": 8,
   "metadata": {
    "dotnet_interactive": {
     "language": "csharp"
    },
    "polyglot_notebook": {
     "kernelName": "csharp"
    },
    "vscode": {
     "languageId": "polyglot-notebook"
    }
   },
   "outputs": [
    {
     "name": "stdout",
     "output_type": "stream",
     "text": [
      "10\r\n"
     ]
    }
   ],
   "source": [
    "int a = 5;\n",
    "int b = 2;\n",
    "int resultat = a * b;\n",
    "Console.WriteLine(resultat);"
   ]
  },
  {
   "cell_type": "markdown",
   "metadata": {},
   "source": [
    "Pour les divisions, notez-bien la différence entre une division sur des entiers et une division sur des nombres."
   ]
  },
  {
   "cell_type": "code",
   "execution_count": 12,
   "metadata": {
    "dotnet_interactive": {
     "language": "csharp"
    },
    "polyglot_notebook": {
     "kernelName": "csharp"
    },
    "vscode": {
     "languageId": "polyglot-notebook"
    }
   },
   "outputs": [
    {
     "name": "stdout",
     "output_type": "stream",
     "text": [
      "1.8\r\n"
     ]
    }
   ],
   "source": [
    "double resultat = 9.0/5;\n",
    "Console.WriteLine(resultat);"
   ]
  },
  {
   "cell_type": "code",
   "execution_count": 10,
   "metadata": {
    "dotnet_interactive": {
     "language": "csharp"
    },
    "polyglot_notebook": {
     "kernelName": "csharp"
    },
    "vscode": {
     "languageId": "polyglot-notebook"
    }
   },
   "outputs": [
    {
     "name": "stdout",
     "output_type": "stream",
     "text": [
      "2.5\r\n"
     ]
    }
   ],
   "source": [
    "double a = 5;\n",
    "double b = 2;\n",
    "double resultat = a / b;\n",
    "Console.WriteLine(resultat);"
   ]
  },
  {
   "cell_type": "markdown",
   "metadata": {},
   "source": [
    "Exemple de modulo (le reste d'une divison, très pratique pour savoir si un nombre est paire ou impaire)"
   ]
  },
  {
   "cell_type": "code",
   "execution_count": 14,
   "metadata": {
    "dotnet_interactive": {
     "language": "csharp"
    },
    "polyglot_notebook": {
     "kernelName": "csharp"
    },
    "vscode": {
     "languageId": "polyglot-notebook"
    }
   },
   "outputs": [
    {
     "name": "stdout",
     "output_type": "stream",
     "text": [
      "1\r\n"
     ]
    }
   ],
   "source": [
    "double a = 5;\n",
    "double b = 2;\n",
    "double resultat = a % b;\n",
    "Console.WriteLine(resultat);"
   ]
  },
  {
   "cell_type": "markdown",
   "metadata": {},
   "source": [
    "Exemple d'incrémentation"
   ]
  },
  {
   "cell_type": "code",
   "execution_count": 13,
   "metadata": {
    "dotnet_interactive": {
     "language": "csharp"
    },
    "polyglot_notebook": {
     "kernelName": "csharp"
    },
    "vscode": {
     "languageId": "polyglot-notebook"
    }
   },
   "outputs": [
    {
     "name": "stdout",
     "output_type": "stream",
     "text": [
      "6\r\n"
     ]
    }
   ],
   "source": [
    "int a = 5;\n",
    "a++;\n",
    "Console.WriteLine(a);"
   ]
  },
  {
   "cell_type": "markdown",
   "metadata": {},
   "source": [
    "Exemple de décrémentation"
   ]
  },
  {
   "cell_type": "code",
   "execution_count": 14,
   "metadata": {
    "dotnet_interactive": {
     "language": "csharp"
    },
    "polyglot_notebook": {
     "kernelName": "csharp"
    },
    "vscode": {
     "languageId": "polyglot-notebook"
    }
   },
   "outputs": [
    {
     "name": "stdout",
     "output_type": "stream",
     "text": [
      "4\r\n"
     ]
    }
   ],
   "source": [
    "int a = 5;\n",
    "a--;\n",
    "Console.WriteLine(a);"
   ]
  },
  {
   "cell_type": "markdown",
   "metadata": {},
   "source": [
    "Exemple d'incrémentation multiple"
   ]
  },
  {
   "cell_type": "code",
   "execution_count": 15,
   "metadata": {
    "dotnet_interactive": {
     "language": "csharp"
    },
    "polyglot_notebook": {
     "kernelName": "csharp"
    },
    "vscode": {
     "languageId": "polyglot-notebook"
    }
   },
   "outputs": [
    {
     "name": "stdout",
     "output_type": "stream",
     "text": [
      "10\r\n"
     ]
    }
   ],
   "source": [
    "int a = 5;\n",
    "a += 5;\n",
    "Console.WriteLine(a);"
   ]
  },
  {
   "cell_type": "markdown",
   "metadata": {},
   "source": [
    "Exemple de décrémentation multiple"
   ]
  },
  {
   "cell_type": "code",
   "execution_count": 20,
   "metadata": {
    "dotnet_interactive": {
     "language": "csharp"
    },
    "polyglot_notebook": {
     "kernelName": "csharp"
    },
    "vscode": {
     "languageId": "polyglot-notebook"
    }
   },
   "outputs": [
    {
     "name": "stdout",
     "output_type": "stream",
     "text": [
      "0\r\n"
     ]
    }
   ],
   "source": [
    "int a = 5;\n",
    "a -= 5;\n",
    "Console.WriteLine(a);"
   ]
  },
  {
   "cell_type": "markdown",
   "metadata": {},
   "source": [
    "Cela fonctionne aussi avec les constantes!"
   ]
  },
  {
   "cell_type": "code",
   "execution_count": 21,
   "metadata": {
    "dotnet_interactive": {
     "language": "csharp"
    },
    "polyglot_notebook": {
     "kernelName": "csharp"
    },
    "vscode": {
     "languageId": "polyglot-notebook"
    }
   },
   "outputs": [
    {
     "name": "stdout",
     "output_type": "stream",
     "text": [
      "4.5885\r\n"
     ]
    }
   ],
   "source": [
    "const double TAXE = 1.15;\n",
    "double montant = 3.99;\n",
    "Console.WriteLine(montant * TAXE);"
   ]
  },
  {
   "cell_type": "markdown",
   "metadata": {},
   "source": [
    "Notez aussi que les variables peuvent être reaffectées à une nouvelle valeur qui dépend de l'ancienne valeur.  La valeur de la variable à droite de l'opérateur d'affectation sera alors l'ancienne valeur de celle-ci.\n",
    "Par exemple:"
   ]
  },
  {
   "cell_type": "code",
   "execution_count": 22,
   "metadata": {
    "dotnet_interactive": {
     "language": "csharp"
    },
    "polyglot_notebook": {
     "kernelName": "csharp"
    },
    "vscode": {
     "languageId": "polyglot-notebook"
    }
   },
   "outputs": [
    {
     "name": "stdout",
     "output_type": "stream",
     "text": [
      "5\n",
      "9\n",
      "6\n",
      "36\n",
      "108\n"
     ]
    }
   ],
   "source": [
    "int a = 5;\n",
    "Console.WriteLine(a);\n",
    "a = a + 4;\n",
    "Console.WriteLine(a);\n",
    "a = a - 3;\n",
    "Console.WriteLine(a);\n",
    "a = a * a;\n",
    "Console.WriteLine(a);\n",
    "a = a + a + a;\n",
    "Console.WriteLine(a);"
   ]
  },
  {
   "cell_type": "markdown",
   "metadata": {},
   "source": [
    "# Priorité des opérateurs\n",
    "- Si plusieurs opérateurs ont la même priorité, on évalue les équations de gauche à droite.\n",
    "- Les parenthèses sont toujours prioritaires et utiliser des parenthèses lorsque nécessaire.\n",
    "- La négation représente le changement de signe d'un nombre.\n",
    "\n",
    "| Priorité | Opérateurs | Commentaire |\n",
    "| --- | --- | --- |\n",
    "| 1 |  Exposant (N'existe pas nativement en c#, mais dans d'autre langage oui.) | | \n",
    "| 2 |  - | Négation | \n",
    "| 3 |  *, /, Modulo (%) | Priorité identique | \n",
    "| 4 |  +, - | Priorité identique | \n",
    "\n",
    "*Attention à ne pas confondre l'opérateur ^ en c# pour un exposant.  En c#, le ^ représente l'opérateur XOR, que nous verrons beaucoup plus tard.*"
   ]
  },
  {
   "cell_type": "code",
   "execution_count": 4,
   "metadata": {
    "dotnet_interactive": {
     "language": "csharp"
    },
    "polyglot_notebook": {
     "kernelName": "csharp"
    },
    "vscode": {
     "languageId": "polyglot-notebook"
    }
   },
   "outputs": [
    {
     "name": "stdout",
     "output_type": "stream",
     "text": [
      "-46\n",
      "-46\n",
      "-46\n",
      "-46\n",
      "-46\n"
     ]
    }
   ],
   "source": [
    "int calcul1;\n",
    "//Étape 1 : Traiter la parenthèse [Priorité 0] \n",
    "calcul1 = 2 + 3 * -(4 * 4);\n",
    "Console.WriteLine(calcul1);\n",
    "//Étape 2 : Traiter la négation [Priorité 2]\n",
    "calcul1 = 2 + 3 * -16;\n",
    "Console.WriteLine(calcul1);\n",
    "//Étape 3 : Traiter la multiplication [Priorité 3]\n",
    "calcul1 = 2 + 3 * -16;\n",
    "Console.WriteLine(calcul1);\n",
    "//Étape 4 : Traiter l'addition [Priorité 4]\n",
    "calcul1 = 2 + -48;\n",
    "Console.WriteLine(calcul1);\n",
    "//Le résultat -46 sera conservé dans la variable calcul1         \n",
    "calcul1 = -46;\n",
    "Console.WriteLine(calcul1);"
   ]
  },
  {
   "cell_type": "code",
   "execution_count": 2,
   "metadata": {
    "dotnet_interactive": {
     "language": "csharp"
    },
    "polyglot_notebook": {
     "kernelName": "csharp"
    },
    "vscode": {
     "languageId": "polyglot-notebook"
    }
   },
   "outputs": [
    {
     "name": "stdout",
     "output_type": "stream",
     "text": [
      "4\n",
      "4\n",
      "4\n",
      "4\n"
     ]
    }
   ],
   "source": [
    "int calcul2;\n",
    "//Étape 1 : Traiter la parenthèse, traiter la soustraction [Priorité 4]  \n",
    "calcul2 = (1 - 2 + 3) * 2;\n",
    "Console.WriteLine(calcul2);\n",
    "//Étape 2 : Traiter la parenthèse, traiter l'addition [Priorité 4]  \n",
    "calcul2 = (-1 + 3) * 2;\n",
    "Console.WriteLine(calcul2);\n",
    "//Étape 3 : Traiter la multiplication [Priorité 3]  \n",
    "calcul2 = 2 * 2;\n",
    "Console.WriteLine(calcul2);\n",
    "//Le résultat 4 sera conservé dans la variable calcul2\n",
    "calcul2 = 4;\n",
    "Console.WriteLine(calcul2);"
   ]
  },
  {
   "cell_type": "code",
   "execution_count": 7,
   "metadata": {
    "dotnet_interactive": {
     "language": "csharp"
    },
    "polyglot_notebook": {
     "kernelName": "csharp"
    },
    "vscode": {
     "languageId": "polyglot-notebook"
    }
   },
   "outputs": [
    {
     "name": "stdout",
     "output_type": "stream",
     "text": [
      "-1\n",
      "-1\n",
      "-1\n",
      "-1\n"
     ]
    }
   ],
   "source": [
    "int calcul3;\n",
    "//Étape 1 : Traiter la parenthèse > traiter la multiplication [Priorité 0 > 3]\n",
    "calcul3 = (1 - 2 * 2) % 2;\n",
    "Console.WriteLine(calcul3);\n",
    "//Étape 2 : Traiter la parenthèse > traiter la soustraction [Priorité 0 > 4]\n",
    "calcul3 = (1 - 4)  % 2;\n",
    "Console.WriteLine(calcul3);\n",
    "//Étape 3 : Traiter le modulo [Priorité 3]\n",
    "calcul3 = -3 % 2;\n",
    "Console.WriteLine(calcul3);\n",
    "//Le résultat 9 sera conservé dans la variable calcul3\n",
    "calcul3 = -1;\n",
    "Console.WriteLine(calcul3);"
   ]
  }
 ],
 "metadata": {
  "kernelspec": {
   "display_name": ".NET (C#)",
   "language": "C#",
   "name": ".net-csharp"
  },
  "language_info": {
   "name": "python"
  },
  "polyglot_notebook": {
   "kernelInfo": {
    "defaultKernelName": "csharp",
    "items": [
     {
      "aliases": [],
      "name": "csharp"
     }
    ]
   }
  }
 },
 "nbformat": 4,
 "nbformat_minor": 2
}
