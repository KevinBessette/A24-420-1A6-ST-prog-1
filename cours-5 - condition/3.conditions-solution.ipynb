{
 "cells": [
  {
   "cell_type": "markdown",
   "metadata": {},
   "source": [
    "## Structure conditionnelle\n",
    "- Syntaxe en C#\n",
    "- Exercice"
   ]
  },
  {
   "cell_type": "code",
   "execution_count": 3,
   "metadata": {
    "dotnet_interactive": {
     "language": "csharp"
    },
    "polyglot_notebook": {
     "kernelName": "csharp"
    },
    "vscode": {
     "languageId": "polyglot-notebook"
    }
   },
   "outputs": [
    {
     "name": "stdout",
     "output_type": "stream",
     "text": [
      "TRUE\r\n"
     ]
    }
   ],
   "source": [
    "bool condition = true;\n",
    "if (condition) { // Notez bien la syntaxe.  mot-clé if pour le SI.  La condition est mise entre parenthèse.  Le bloc de code à exécuter si la condition est bonne est mise entre accollade { }\n",
    "    Console.WriteLine(\"TRUE\");  // le bloc de code à l'intérieur du if est indenté de 4 espace (ou 1 tab) vers la droite.\n",
    "} // fermer le bloc de code du if\n",
    "else { // mot-clé else pour le SINON.  Ouverture d'un nouveau bloc de code avec des {}\n",
    "    Console.WriteLine(\"FALSE\"); // le bloc de code à l'intérieur du else est indenté de 4 espace (ou 1 tab) vers la droite.\n",
    "} // ferme le bloc de code du else"
   ]
  },
  {
   "cell_type": "markdown",
   "metadata": {},
   "source": [
    "Exemple pour chacun des opérateurs de comparaison"
   ]
  },
  {
   "cell_type": "code",
   "execution_count": 4,
   "metadata": {
    "dotnet_interactive": {
     "language": "csharp"
    },
    "polyglot_notebook": {
     "kernelName": "csharp"
    },
    "vscode": {
     "languageId": "polyglot-notebook"
    }
   },
   "outputs": [
    {
     "name": "stdout",
     "output_type": "stream",
     "text": [
      "TRUE\r\n"
     ]
    }
   ],
   "source": [
    "int age = 20;\n",
    "\n",
    "if (age > 18) {\n",
    "    Console.WriteLine(\"TRUE\");\n",
    "}\n",
    "else {\n",
    "    Console.WriteLine(\"FALSE\");\n",
    "}"
   ]
  },
  {
   "cell_type": "code",
   "execution_count": 5,
   "metadata": {
    "dotnet_interactive": {
     "language": "csharp"
    },
    "polyglot_notebook": {
     "kernelName": "csharp"
    },
    "vscode": {
     "languageId": "polyglot-notebook"
    }
   },
   "outputs": [
    {
     "name": "stdout",
     "output_type": "stream",
     "text": [
      "FALSE\r\n"
     ]
    }
   ],
   "source": [
    "int age = 20;\n",
    "\n",
    "if (age < 18 ) {\n",
    "    Console.WriteLine(\"TRUE\");\n",
    "}\n",
    "else {\n",
    "    Console.WriteLine(\"FALSE\");\n",
    "}"
   ]
  },
  {
   "cell_type": "code",
   "execution_count": 6,
   "metadata": {
    "dotnet_interactive": {
     "language": "csharp"
    },
    "polyglot_notebook": {
     "kernelName": "csharp"
    },
    "vscode": {
     "languageId": "polyglot-notebook"
    }
   },
   "outputs": [
    {
     "name": "stdout",
     "output_type": "stream",
     "text": [
      "TRUE\r\n"
     ]
    }
   ],
   "source": [
    "int age = 20;\n",
    "\n",
    "if (age == 20) {\n",
    "    Console.WriteLine(\"TRUE\");\n",
    "}\n",
    "else {\n",
    "    Console.WriteLine(\"FALSE\");\n",
    "}"
   ]
  },
  {
   "cell_type": "code",
   "execution_count": 7,
   "metadata": {
    "dotnet_interactive": {
     "language": "csharp"
    },
    "polyglot_notebook": {
     "kernelName": "csharp"
    },
    "vscode": {
     "languageId": "polyglot-notebook"
    }
   },
   "outputs": [
    {
     "name": "stdout",
     "output_type": "stream",
     "text": [
      "TRUE\r\n"
     ]
    }
   ],
   "source": [
    "int age = 20;\n",
    "\n",
    "if (age <= 20) {\n",
    "    Console.WriteLine(\"TRUE\");\n",
    "}\n",
    "else {\n",
    "    Console.WriteLine(\"FALSE\");\n",
    "}"
   ]
  },
  {
   "cell_type": "code",
   "execution_count": 8,
   "metadata": {
    "dotnet_interactive": {
     "language": "csharp"
    },
    "polyglot_notebook": {
     "kernelName": "csharp"
    },
    "vscode": {
     "languageId": "polyglot-notebook"
    }
   },
   "outputs": [
    {
     "name": "stdout",
     "output_type": "stream",
     "text": [
      "TRUE\r\n"
     ]
    }
   ],
   "source": [
    "int age = 20;\n",
    "\n",
    "if (age >= 20) {\n",
    "    Console.WriteLine(\"TRUE\");\n",
    "}\n",
    "else {\n",
    "    Console.WriteLine(\"FALSE\");\n",
    "}"
   ]
  },
  {
   "cell_type": "code",
   "execution_count": 10,
   "metadata": {
    "dotnet_interactive": {
     "language": "csharp"
    },
    "polyglot_notebook": {
     "kernelName": "csharp"
    },
    "vscode": {
     "languageId": "polyglot-notebook"
    }
   },
   "outputs": [
    {
     "name": "stdout",
     "output_type": "stream",
     "text": [
      "FALSE\r\n"
     ]
    }
   ],
   "source": [
    "int age = 20;\n",
    "\n",
    "if (!(age > 18)) {\n",
    "    Console.WriteLine(\"TRUE\");\n",
    "}\n",
    "else {\n",
    "    Console.WriteLine(\"FALSE\");\n",
    "}"
   ]
  },
  {
   "cell_type": "code",
   "execution_count": 11,
   "metadata": {
    "dotnet_interactive": {
     "language": "csharp"
    },
    "polyglot_notebook": {
     "kernelName": "csharp"
    },
    "vscode": {
     "languageId": "polyglot-notebook"
    }
   },
   "outputs": [
    {
     "name": "stdout",
     "output_type": "stream",
     "text": [
      "TRUE\r\n"
     ]
    }
   ],
   "source": [
    "int age = 20;\n",
    "\n",
    "if (age > 18 && age < 21) {\n",
    "    Console.WriteLine(\"TRUE\");\n",
    "}\n",
    "else {\n",
    "    Console.WriteLine(\"FALSE\");\n",
    "}"
   ]
  },
  {
   "cell_type": "code",
   "execution_count": 12,
   "metadata": {
    "dotnet_interactive": {
     "language": "csharp"
    },
    "polyglot_notebook": {
     "kernelName": "csharp"
    },
    "vscode": {
     "languageId": "polyglot-notebook"
    }
   },
   "outputs": [
    {
     "name": "stdout",
     "output_type": "stream",
     "text": [
      "TRUE\r\n"
     ]
    }
   ],
   "source": [
    "int age = 20;\n",
    "\n",
    "if (age < 10 || age >= 20 ) {\n",
    "    Console.WriteLine(\"TRUE\");\n",
    "}\n",
    "else {\n",
    "    Console.WriteLine(\"FALSE\");\n",
    "}"
   ]
  },
  {
   "cell_type": "code",
   "execution_count": 1,
   "metadata": {
    "dotnet_interactive": {
     "language": "csharp"
    },
    "polyglot_notebook": {
     "kernelName": "csharp"
    },
    "vscode": {
     "languageId": "polyglot-notebook"
    }
   },
   "outputs": [
    {
     "name": "stdout",
     "output_type": "stream",
     "text": [
      "ELSE IF TRUE\r\n"
     ]
    }
   ],
   "source": [
    "int age = 15;\n",
    "\n",
    "if (age < 10 || age >= 20 ) {\n",
    "    Console.WriteLine(\"TRUE\");\n",
    "}\n",
    "else if (age > 13 && age < 17) {\n",
    "    Console.WriteLine(\"ELSE IF TRUE\");\n",
    "}\n",
    "else {\n",
    "    Console.WriteLine(\"FALSE\");\n",
    "}"
   ]
  },
  {
   "cell_type": "markdown",
   "metadata": {},
   "source": [
    "### Portée des variables.\n",
    "- Il est possible de déclarer une variable à l'**intérieur** d'un bloc IF ou ELSE.\n",
    "- La portée de la variable est alors limité à son bloc de code.  Elle ne pourra pas être accèdé en dehors du bloc.\n",
    "- La mémoire réservée pour la variable sera libérée à la fin de l'exécution du bloc de code.\n",
    "\n",
    "*Notez toutefois que les variables déclarées à l'**extérieur** du bloc IF seront toujours accessible à l'intérieur du bloc."
   ]
  },
  {
   "cell_type": "code",
   "execution_count": 14,
   "metadata": {
    "dotnet_interactive": {
     "language": "csharp"
    },
    "polyglot_notebook": {
     "kernelName": "csharp"
    },
    "vscode": {
     "languageId": "polyglot-notebook"
    }
   },
   "outputs": [
    {
     "name": "stdout",
     "output_type": "stream",
     "text": [
      "Allo numéro 10\r\n"
     ]
    }
   ],
   "source": [
    "int a = 10;\n",
    "\n",
    "if (a > 5){\n",
    "    string hello = \"Allo\";\n",
    "    Console.WriteLine($\"{hello} numéro {a}\"); // hello et a sont accessible dans le bloc de code\n",
    "}\n",
    "// Console.WriteLine(hello); // erreur, Hello n'est pas accessible hors de son bloc de code."
   ]
  }
 ],
 "metadata": {
  "kernelspec": {
   "display_name": ".NET (C#)",
   "language": "C#",
   "name": ".net-csharp"
  },
  "language_info": {
   "name": "python"
  },
  "polyglot_notebook": {
   "kernelInfo": {
    "defaultKernelName": "csharp",
    "items": [
     {
      "aliases": [],
      "name": "csharp"
     }
    ]
   }
  }
 },
 "nbformat": 4,
 "nbformat_minor": 2
}
