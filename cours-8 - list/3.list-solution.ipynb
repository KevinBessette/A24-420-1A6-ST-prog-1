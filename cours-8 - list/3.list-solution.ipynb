{
 "cells": [
  {
   "cell_type": "markdown",
   "metadata": {},
   "source": [
    "#### Déclarer et instancier une liste"
   ]
  },
  {
   "cell_type": "code",
   "execution_count": null,
   "metadata": {
    "vscode": {
     "languageId": "polyglot-notebook"
    }
   },
   "outputs": [],
   "source": [
    "// Déclarer une liste d'entier vide\n",
    "List<int> emptyList = new List<int>();\n",
    "// Déclarer une liste de string avec des valeurs initiales\n",
    "List<string> fruits = new List<string>(){\"Pomme\",\"Banane\",\"Poire\"};"
   ]
  },
  {
   "cell_type": "markdown",
   "metadata": {},
   "source": [
    "#### La méthode Count retourne le nombre d'éléments dans la liste."
   ]
  },
  {
   "cell_type": "code",
   "execution_count": 1,
   "metadata": {
    "dotnet_interactive": {
     "language": "csharp"
    },
    "polyglot_notebook": {
     "kernelName": "csharp"
    },
    "vscode": {
     "languageId": "polyglot-notebook"
    }
   },
   "outputs": [
    {
     "name": "stdout",
     "output_type": "stream",
     "text": [
      "3\r\n"
     ]
    }
   ],
   "source": [
    "List<string> fruits = new List<string>(){\"Pomme\",\"Banane\",\"Poire\"};\n",
    "Console.WriteLine(fruits.Count);"
   ]
  },
  {
   "cell_type": "markdown",
   "metadata": {},
   "source": [
    "#### Ajouter des Éléments à une Liste\n",
    "Utilisez la méthode Add() pour ajouter des éléments."
   ]
  },
  {
   "cell_type": "code",
   "execution_count": 3,
   "metadata": {
    "vscode": {
     "languageId": "polyglot-notebook"
    }
   },
   "outputs": [
    {
     "name": "stdout",
     "output_type": "stream",
     "text": [
      "5\r\n"
     ]
    }
   ],
   "source": [
    "List<string> fruits = new List<string>(){\"Pomme\",\"Banane\",\"Poire\"};\n",
    "fruits.Add(\"Pomme\");\n",
    "fruits.Add(\"Ananas\");\n",
    "Console.WriteLine(fruits.Count);"
   ]
  },
  {
   "cell_type": "markdown",
   "metadata": {},
   "source": [
    "#### Accéder aux Éléments dans une Liste\n",
    "Accédez aux éléments par leur index (à partir de 0)."
   ]
  },
  {
   "cell_type": "code",
   "execution_count": 4,
   "metadata": {
    "vscode": {
     "languageId": "polyglot-notebook"
    }
   },
   "outputs": [
    {
     "name": "stdout",
     "output_type": "stream",
     "text": [
      "Banane\n",
      "Ananas\n"
     ]
    }
   ],
   "source": [
    "List<string> fruits = new List<string>(){\"Pomme\",\"Banane\",\"Poire\"};\n",
    "Console.WriteLine(fruits[1]);\n",
    "fruits.Add(\"Ananas\");\n",
    "Console.WriteLine(fruits[3]);"
   ]
  },
  {
   "cell_type": "markdown",
   "metadata": {},
   "source": [
    "#### Supprimer des Éléments d'une Liste\n",
    "Utilisez Remove() pour supprimer un élément spécifique.  \n",
    "\n",
    "*Si l'élément est présent en double, seule la première instance de l'élément sera supprimé.*"
   ]
  },
  {
   "cell_type": "code",
   "execution_count": 8,
   "metadata": {
    "vscode": {
     "languageId": "polyglot-notebook"
    }
   },
   "outputs": [
    {
     "name": "stdout",
     "output_type": "stream",
     "text": [
      "4\n",
      "3\n",
      "Banane\n",
      "Pomme\n"
     ]
    }
   ],
   "source": [
    "List<string> fruits = new List<string>(){\"Pomme\",\"Banane\",\"Pomme\",\"Poire\"};\n",
    "Console.WriteLine(fruits.Count);\n",
    "fruits.Remove(\"Pomme\");\n",
    "Console.WriteLine(fruits.Count);\n",
    "Console.WriteLine(fruits[0]);\n",
    "Console.WriteLine(fruits[1]);"
   ]
  },
  {
   "cell_type": "markdown",
   "metadata": {},
   "source": [
    "#### Utilisez RemoveAt() pour supprimer un élément à un index donné."
   ]
  },
  {
   "cell_type": "code",
   "execution_count": 10,
   "metadata": {
    "vscode": {
     "languageId": "polyglot-notebook"
    }
   },
   "outputs": [
    {
     "name": "stdout",
     "output_type": "stream",
     "text": [
      "Pomme\n",
      "4\n",
      "Poire\n",
      "3\n"
     ]
    }
   ],
   "source": [
    "List<string> fruits = new List<string>(){\"Pomme\",\"Banane\",\"Pomme\",\"Poire\"};\n",
    "Console.WriteLine(fruits[2]);\n",
    "Console.WriteLine(fruits.Count);\n",
    "fruits.RemoveAt(2);\n",
    "Console.WriteLine(fruits[2]);\n",
    "Console.WriteLine(fruits.Count);"
   ]
  },
  {
   "cell_type": "markdown",
   "metadata": {},
   "source": [
    "#### Itérer sur les Éléments d'une Liste\n",
    "Tout comme avec un *array*, le plus simple est d'itérer avec une boucle for"
   ]
  },
  {
   "cell_type": "code",
   "execution_count": 11,
   "metadata": {
    "vscode": {
     "languageId": "polyglot-notebook"
    }
   },
   "outputs": [
    {
     "name": "stdout",
     "output_type": "stream",
     "text": [
      "Pomme\n",
      "Banane\n",
      "Pomme\n",
      "Poire\n"
     ]
    }
   ],
   "source": [
    "List<string> fruits = new List<string>(){\"Pomme\",\"Banane\",\"Pomme\",\"Poire\"};\n",
    "for(int i=0; i<fruits.Count; i++){\n",
    "    Console.WriteLine(fruits[i]);\n",
    "}"
   ]
  }
 ],
 "metadata": {
  "kernelspec": {
   "display_name": ".NET (C#)",
   "language": "C#",
   "name": ".net-csharp"
  },
  "language_info": {
   "name": "python"
  },
  "polyglot_notebook": {
   "kernelInfo": {
    "defaultKernelName": "csharp",
    "items": [
     {
      "aliases": [],
      "name": "csharp"
     }
    ]
   }
  }
 },
 "nbformat": 4,
 "nbformat_minor": 2
}
