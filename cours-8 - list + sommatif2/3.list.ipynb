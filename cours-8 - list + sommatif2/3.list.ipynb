{
 "cells": [
  {
   "cell_type": "markdown",
   "metadata": {},
   "source": [
    "#### Déclarer et instancier une liste"
   ]
  },
  {
   "cell_type": "code",
   "execution_count": null,
   "metadata": {
    "dotnet_interactive": {
     "language": "csharp"
    },
    "polyglot_notebook": {
     "kernelName": "csharp"
    },
    "vscode": {
     "languageId": "polyglot-notebook"
    }
   },
   "outputs": [],
   "source": [
    "List<int> emptyList = [];\n",
    "List<string> fruits = [\"Pomme\", \"Banane\", \"Poire\"];"
   ]
  },
  {
   "cell_type": "markdown",
   "metadata": {},
   "source": [
    "#### La méthode Count retourne le nombre d'éléments dans la liste."
   ]
  },
  {
   "cell_type": "code",
   "execution_count": 1,
   "metadata": {
    "dotnet_interactive": {
     "language": "csharp"
    },
    "polyglot_notebook": {
     "kernelName": "csharp"
    },
    "vscode": {
     "languageId": "polyglot-notebook"
    }
   },
   "outputs": [
    {
     "name": "stdout",
     "output_type": "stream",
     "text": [
      "3\r\n"
     ]
    }
   ],
   "source": [
    "List<string> fruits = [\"Pomme\", \"Banane\", \"Poire\"];\n",
    "Console.WriteLine(fruits.Count);"
   ]
  },
  {
   "cell_type": "markdown",
   "metadata": {},
   "source": [
    "#### Ajouter des Éléments à une Liste\n",
    "Utilisez la méthode Add() pour ajouter des éléments."
   ]
  },
  {
   "cell_type": "code",
   "execution_count": 2,
   "metadata": {
    "dotnet_interactive": {
     "language": "csharp"
    },
    "polyglot_notebook": {
     "kernelName": "csharp"
    },
    "vscode": {
     "languageId": "polyglot-notebook"
    }
   },
   "outputs": [
    {
     "name": "stdout",
     "output_type": "stream",
     "text": [
      "5\r\n"
     ]
    }
   ],
   "source": [
    "List<string> fruits = [\"Pomme\", \"Banane\", \"Poire\"];\n",
    "fruits.Add(\"Pomme\");\n",
    "fruits.Add(\"Ananas\");\n",
    "Console.WriteLine(fruits.Count);"
   ]
  },
  {
   "cell_type": "markdown",
   "metadata": {},
   "source": [
    "#### Accéder aux Éléments dans une Liste\n",
    "Accédez aux éléments par leur index (à partir de 0)."
   ]
  },
  {
   "cell_type": "code",
   "execution_count": 3,
   "metadata": {
    "dotnet_interactive": {
     "language": "csharp"
    },
    "polyglot_notebook": {
     "kernelName": "csharp"
    },
    "vscode": {
     "languageId": "polyglot-notebook"
    }
   },
   "outputs": [
    {
     "name": "stdout",
     "output_type": "stream",
     "text": [
      "Pomme\n",
      "Ananas\n"
     ]
    }
   ],
   "source": [
    "List<string> fruits = [\"Pomme\", \"Banane\", \"Poire\"];\n",
    "Console.WriteLine(fruits[0]);\n",
    "fruits.Add(\"Ananas\");\n",
    "Console.WriteLine(fruits[3]);\n"
   ]
  },
  {
   "cell_type": "markdown",
   "metadata": {},
   "source": [
    "#### Supprimer des Éléments d'une Liste\n",
    "Utilisez Remove() pour supprimer un élément spécifique.  \n",
    "\n",
    "*Si l'élément est présent en double, seule la première instance de l'élément sera supprimé.*"
   ]
  },
  {
   "cell_type": "code",
   "execution_count": 5,
   "metadata": {
    "dotnet_interactive": {
     "language": "csharp"
    },
    "polyglot_notebook": {
     "kernelName": "csharp"
    },
    "vscode": {
     "languageId": "polyglot-notebook"
    }
   },
   "outputs": [
    {
     "name": "stdout",
     "output_type": "stream",
     "text": [
      "Banane\n",
      "Pomme\n"
     ]
    }
   ],
   "source": [
    "List<string> fruits = [\"Pomme\", \"Banane\", \"Poire\", \"Pomme\"];\n",
    "fruits.Remove(\"Pomme\");\n",
    "Console.WriteLine(fruits[0]);\n",
    "Console.WriteLine(fruits[2]);"
   ]
  },
  {
   "cell_type": "markdown",
   "metadata": {},
   "source": [
    "#### Utilisez RemoveAt() pour supprimer un élément à un index donné."
   ]
  },
  {
   "cell_type": "code",
   "execution_count": 6,
   "metadata": {
    "dotnet_interactive": {
     "language": "csharp"
    },
    "polyglot_notebook": {
     "kernelName": "csharp"
    },
    "vscode": {
     "languageId": "polyglot-notebook"
    }
   },
   "outputs": [
    {
     "name": "stdout",
     "output_type": "stream",
     "text": [
      "2\r\n"
     ]
    }
   ],
   "source": [
    "List<string> fruits = [\"Pomme\", \"Banane\", \"Poire\"];\n",
    "fruits.RemoveAt(2);\n",
    "Console.WriteLine(fruits.Count);"
   ]
  },
  {
   "cell_type": "markdown",
   "metadata": {},
   "source": [
    "#### Itérer sur les Éléments d'une Liste\n",
    "Tout comme avec un *array*, le plus simple est d'itérer avec une boucle for"
   ]
  },
  {
   "cell_type": "code",
   "execution_count": 7,
   "metadata": {
    "dotnet_interactive": {
     "language": "csharp"
    },
    "polyglot_notebook": {
     "kernelName": "csharp"
    },
    "vscode": {
     "languageId": "polyglot-notebook"
    }
   },
   "outputs": [
    {
     "name": "stdout",
     "output_type": "stream",
     "text": [
      "Pomme\n",
      "Banane\n",
      "Poire\n"
     ]
    }
   ],
   "source": [
    "List<string> fruits = [\"Pomme\", \"Banane\", \"Poire\"];\n",
    "for (int i = 0; i < fruits.Count; i++){\n",
    "    Console.WriteLine(fruits[i]);\n",
    "}"
   ]
  }
 ],
 "metadata": {
  "kernelspec": {
   "display_name": ".NET (C#)",
   "language": "C#",
   "name": ".net-csharp"
  },
  "language_info": {
   "name": "python"
  },
  "polyglot_notebook": {
   "kernelInfo": {
    "defaultKernelName": "csharp",
    "items": [
     {
      "aliases": [],
      "name": "csharp"
     }
    ]
   }
  }
 },
 "nbformat": 4,
 "nbformat_minor": 2
}
