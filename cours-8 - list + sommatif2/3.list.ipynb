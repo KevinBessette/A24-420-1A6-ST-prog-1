{
 "cells": [
  {
   "cell_type": "markdown",
   "metadata": {},
   "source": [
    "#### Déclarer et instancier une liste"
   ]
  },
  {
   "cell_type": "code",
   "execution_count": null,
   "metadata": {
    "dotnet_interactive": {
     "language": "csharp"
    },
    "polyglot_notebook": {
     "kernelName": "csharp"
    },
    "vscode": {
     "languageId": "polyglot-notebook"
    }
   },
   "outputs": [],
   "source": [
    "List<int> emptyList = [];\n",
    "List<string> fruits = [\"pomme\", \"banane\", \"poire\"];"
   ]
  },
  {
   "cell_type": "markdown",
   "metadata": {},
   "source": [
    "#### La méthode Count retourne le nombre d'éléments dans la liste."
   ]
  },
  {
   "cell_type": "code",
   "execution_count": 1,
   "metadata": {
    "dotnet_interactive": {
     "language": "csharp"
    },
    "polyglot_notebook": {
     "kernelName": "csharp"
    },
    "vscode": {
     "languageId": "polyglot-notebook"
    }
   },
   "outputs": [
    {
     "name": "stdout",
     "output_type": "stream",
     "text": [
      "3"
     ]
    }
   ],
   "source": [
    "List<string> fruits = [\"pomme\", \"banane\", \"poire\"];\n",
    "Console.Write(fruits.Count);"
   ]
  },
  {
   "cell_type": "markdown",
   "metadata": {},
   "source": [
    "#### Ajouter des Éléments à une Liste\n",
    "Utilisez la méthode Add() pour ajouter des éléments."
   ]
  },
  {
   "cell_type": "code",
   "execution_count": 4,
   "metadata": {
    "dotnet_interactive": {
     "language": "csharp"
    },
    "polyglot_notebook": {
     "kernelName": "csharp"
    },
    "vscode": {
     "languageId": "polyglot-notebook"
    }
   },
   "outputs": [
    {
     "name": "stdout",
     "output_type": "stream",
     "text": [
      "3\n",
      "5\n"
     ]
    }
   ],
   "source": [
    "List<string> fruits = [\"pomme\", \"banane\", \"poire\"];\n",
    "Console.WriteLine(fruits.Count);\n",
    "fruits.Add(\"pomme\");\n",
    "fruits.Add(\"Ananas\");\n",
    "Console.WriteLine(fruits.Count);"
   ]
  },
  {
   "cell_type": "markdown",
   "metadata": {},
   "source": [
    "#### Accéder aux Éléments dans une Liste\n",
    "Accédez aux éléments par leur index (à partir de 0)."
   ]
  },
  {
   "cell_type": "code",
   "execution_count": 5,
   "metadata": {
    "dotnet_interactive": {
     "language": "csharp"
    },
    "polyglot_notebook": {
     "kernelName": "csharp"
    },
    "vscode": {
     "languageId": "polyglot-notebook"
    }
   },
   "outputs": [
    {
     "name": "stdout",
     "output_type": "stream",
     "text": [
      "pomme\n",
      "Ananas\n"
     ]
    }
   ],
   "source": [
    "List<string> fruits = [\"pomme\", \"banane\", \"poire\"];\n",
    "Console.WriteLine(fruits[0]);\n",
    "fruits.Add(\"Ananas\");\n",
    "Console.WriteLine(fruits[3]);\n"
   ]
  },
  {
   "cell_type": "markdown",
   "metadata": {},
   "source": [
    "#### Supprimer des Éléments d'une Liste\n",
    "Utilisez Remove() pour supprimer un élément spécifique.  \n",
    "\n",
    "*Si l'élément est présent en double, seule la première instance de l'élément sera supprimé.*"
   ]
  },
  {
   "cell_type": "code",
   "execution_count": 7,
   "metadata": {
    "dotnet_interactive": {
     "language": "csharp"
    },
    "polyglot_notebook": {
     "kernelName": "csharp"
    },
    "vscode": {
     "languageId": "polyglot-notebook"
    }
   },
   "outputs": [
    {
     "name": "stdout",
     "output_type": "stream",
     "text": [
      "pomme\n",
      "banane\n",
      "pomme\n"
     ]
    }
   ],
   "source": [
    "List<string> fruits = [\"pomme\", \"banane\", \"pomme\", \"poire\"];\n",
    "Console.WriteLine(fruits[0]);\n",
    "fruits.Remove(\"pomme\");\n",
    "Console.WriteLine(fruits[0]);\n",
    "Console.WriteLine(fruits[1]);"
   ]
  },
  {
   "cell_type": "markdown",
   "metadata": {},
   "source": [
    "#### Utilisez RemoveAt() pour supprimer un élément à un index donné."
   ]
  },
  {
   "cell_type": "code",
   "execution_count": 9,
   "metadata": {
    "dotnet_interactive": {
     "language": "csharp"
    },
    "polyglot_notebook": {
     "kernelName": "csharp"
    },
    "vscode": {
     "languageId": "polyglot-notebook"
    }
   },
   "outputs": [
    {
     "name": "stdout",
     "output_type": "stream",
     "text": [
      "pomme\n",
      "banane\n"
     ]
    }
   ],
   "source": [
    "List<string> fruits = [\"pomme\", \"banane\", \"pomme\", \"poire\"];\n",
    "Console.WriteLine(fruits[0]);\n",
    "fruits.RemoveAt(0);\n",
    "Console.WriteLine(fruits[0]);"
   ]
  },
  {
   "cell_type": "markdown",
   "metadata": {},
   "source": [
    "#### Itérer sur les Éléments d'une Liste\n",
    "Tout comme avec un *array*, le plus simple est d'itérer avec une boucle for"
   ]
  },
  {
   "cell_type": "code",
   "execution_count": 10,
   "metadata": {
    "dotnet_interactive": {
     "language": "csharp"
    },
    "polyglot_notebook": {
     "kernelName": "csharp"
    },
    "vscode": {
     "languageId": "polyglot-notebook"
    }
   },
   "outputs": [
    {
     "name": "stdout",
     "output_type": "stream",
     "text": [
      "pomme\n",
      "banane\n",
      "pomme\n",
      "poire\n"
     ]
    }
   ],
   "source": [
    "List<string> fruits = [\"pomme\", \"banane\", \"pomme\", \"poire\"];\n",
    "for(int i = 0; i < fruits.Count; i++){\n",
    "    Console.WriteLine(fruits[i]);\n",
    "}"
   ]
  }
 ],
 "metadata": {
  "kernelspec": {
   "display_name": ".NET (C#)",
   "language": "C#",
   "name": ".net-csharp"
  },
  "language_info": {
   "name": "python"
  },
  "polyglot_notebook": {
   "kernelInfo": {
    "defaultKernelName": "csharp",
    "items": [
     {
      "aliases": [],
      "name": "csharp"
     }
    ]
   }
  }
 },
 "nbformat": 4,
 "nbformat_minor": 2
}
