{
 "cells": [
  {
   "cell_type": "markdown",
   "metadata": {},
   "source": [
    "# DoWhile\n",
    "Programmer la fonction LancerDés.  La fonction prend en paramètre un entier représentant le nombre de dé à lancer et retourne le résultat de la somme de ceux-ci.\n",
    "\n",
    "*Vous devez utiliser une boucle Do-While.*"
   ]
  },
  {
   "cell_type": "code",
   "execution_count": 1,
   "metadata": {
    "dotnet_interactive": {
     "language": "csharp"
    },
    "polyglot_notebook": {
     "kernelName": "csharp"
    },
    "vscode": {
     "languageId": "polyglot-notebook"
    }
   },
   "outputs": [
    {
     "name": "stdout",
     "output_type": "stream",
     "text": [
      "9\n",
      "6\n",
      "15\n"
     ]
    }
   ],
   "source": [
    "// todo\n",
    "\n",
    "Console.WriteLine(LancerDés(2)); // Lancer 2 dés\n",
    "Console.WriteLine(LancerDés(3)); // Lancer 3 dés\n",
    "Console.WriteLine(LancerDés(6)); // Lancer 6 dés"
   ]
  },
  {
   "cell_type": "markdown",
   "metadata": {},
   "source": [
    "# ForEach.\n",
    "Programmer la fonction AfficherMenu.  Cette fonction prend en paramètre un array de chaîne représentant les options et affiche dans la console un Menu qui contient chacune des options.\n",
    "\n",
    "*Vous devez obligatoirement utiliser l'instruciton forEach*"
   ]
  },
  {
   "cell_type": "code",
   "execution_count": 6,
   "metadata": {
    "dotnet_interactive": {
     "language": "csharp"
    },
    "polyglot_notebook": {
     "kernelName": "csharp"
    },
    "vscode": {
     "languageId": "polyglot-notebook"
    }
   },
   "outputs": [
    {
     "name": "stdout",
     "output_type": "stream",
     "text": [
      "===Menu du jour===\n",
      "Pâtes\n",
      "Pizza\n",
      "Salade\n",
      "Burger\n",
      "Tacos\n",
      "===Menu végétarien===\n",
      "Pâtes\n",
      "Pizza\n",
      "Salade\n",
      "===Menu sans gluten===\n",
      "Pâtes\n",
      "Salade\n",
      "Tacos\n"
     ]
    }
   ],
   "source": [
    "string[] menu = [\"Pâtes\", \"Pizza\", \"Salade\", \"Burger\", \"Tacos\"];\n",
    "string[] menuVégétarien = [\"Pâtes\", \"Pizza\", \"Salade\"];\n",
    "string[] menuSansGluten = [\"Pâtes\", \"Salade\", \"Tacos\"];\n",
    "\n",
    "// todo\n",
    "\n",
    "Console.WriteLine(\"===Menu du jour===\");\n",
    "AfficherMenu(menu); \n",
    "Console.WriteLine(\"===Menu végétarien===\");\n",
    "AfficherMenu(menuVégétarien);\n",
    "Console.WriteLine(\"===Menu sans gluten===\");\n",
    "AfficherMenu(menuSansGluten);"
   ]
  },
  {
   "cell_type": "markdown",
   "metadata": {},
   "source": [
    "# Jeu de Cartes : Passe ou Retire\n",
    "Programmer la fonction JouerCartes. Cette fonction prend en paramètre un tableau de chaînes représentant un jeu de cartes et un entier représentant le nombre maximum de cartes à tirer. \n",
    "La fonction doit parcourir le jeu de cartes et afficher chaque carte tirée. \n",
    "- Si la carte est \"Passe\", la fonction doit utiliser l'instruction `continue` pour passer à la carte suivante sans l'afficher. \n",
    "- Si la carte est \"stop\", la fonction doit utiliser l'instruction `break` pour arrêter de tirer des cartes et terminer la fonction.\n",
    "\n",
    "*Vous devez obligatoirement utiliser les instructions `break` et `continue`.*"
   ]
  },
  {
   "cell_type": "code",
   "execution_count": 17,
   "metadata": {
    "dotnet_interactive": {
     "language": "csharp"
    },
    "polyglot_notebook": {
     "kernelName": "csharp"
    },
    "vscode": {
     "languageId": "polyglot-notebook"
    }
   },
   "outputs": [
    {
     "name": "stdout",
     "output_type": "stream",
     "text": [
      "7 de coeur\n",
      "9 de trèfle\n",
      "2 de carreau\n",
      "3 de pique\n",
      "8 de pique\n"
     ]
    }
   ],
   "source": [
    "// todo\n",
    "\n",
    "string[] cartes = [\"7 de coeur\", \"passe\", \"3 de pique\", \"stop\", \"10 de trèfle\", \"passe\", \"2 de carreau\", \"passe\", \"5 de coeur\", \"stop\", \"8 de pique\", \"9 de trèfle\"];\n",
    "Random rand = new Random();\n",
    "rand.Shuffle(cartes); // Mélanger les cartes\n",
    "JouerCartes(cartes);\n",
    "\n"
   ]
  }
 ],
 "metadata": {
  "kernelspec": {
   "display_name": ".NET (C#)",
   "language": "C#",
   "name": ".net-csharp"
  },
  "language_info": {
   "name": "python"
  },
  "polyglot_notebook": {
   "kernelInfo": {
    "defaultKernelName": "csharp",
    "items": [
     {
      "aliases": [],
      "name": "csharp"
     }
    ]
   }
  }
 },
 "nbformat": 4,
 "nbformat_minor": 2
}
