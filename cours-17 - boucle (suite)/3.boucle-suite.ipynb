{
 "cells": [
  {
   "cell_type": "markdown",
   "metadata": {},
   "source": [
    "# do-while\n",
    "Programmer la fonction ChanceEnOr.  La fonction contient un entier représentant votre or commençant à 1.  Puis de façon itérative, générez une valeur aléatoire entre 1 et 2.  \n",
    "    Si la valeur généré est 1, quitter la boucle.  \n",
    "    Si la valeur généré est 2, doubler l'entier.\n",
    "\n",
    "*Vous devez obligatoirement utiliser une boucle Do-While.*"
   ]
  },
  {
   "cell_type": "code",
   "execution_count": null,
   "metadata": {
    "dotnet_interactive": {
     "language": "csharp"
    },
    "polyglot_notebook": {
     "kernelName": "csharp"
    },
    "vscode": {
     "languageId": "polyglot-notebook"
    }
   },
   "outputs": [
    {
     "name": "stdout",
     "output_type": "stream",
     "text": [
      "2\n",
      "2\n",
      "4\n",
      "2\n",
      "4\n",
      "4\n",
      "8\n"
     ]
    }
   ],
   "source": [
    "void ChanceEnOr(){\n",
    "    int or = 1;\n",
    "    Random rand = new Random();\n",
    "    int random;\n",
    "    do{\n",
    "        random = rand.Next(1,3);\n",
    "        if (random == 2){\n",
    "            or *= 2;\n",
    "        }\n",
    "    }\n",
    "    while(random != 1);\n",
    "    Console.WriteLine(or);\n",
    "}\n",
    "\n",
    "ChanceEnOr();\n",
    "ChanceEnOr();\n",
    "ChanceEnOr();\n",
    "ChanceEnOr();\n",
    "ChanceEnOr();\n",
    "ChanceEnOr();\n",
    "ChanceEnOr();"
   ]
  },
  {
   "cell_type": "markdown",
   "metadata": {},
   "source": [
    "# ForEach.\n",
    "Programmer la fonction AfficherMenu.  Cette fonction prend en paramètre un array de chaîne représentant les options et affiche dans la console un Menu qui contient chacune des options.\n",
    "\n",
    "*Vous devez obligatoirement utiliser l'instruciton forEach*"
   ]
  },
  {
   "cell_type": "code",
   "execution_count": 21,
   "metadata": {
    "dotnet_interactive": {
     "language": "csharp"
    },
    "polyglot_notebook": {
     "kernelName": "csharp"
    },
    "vscode": {
     "languageId": "polyglot-notebook"
    }
   },
   "outputs": [
    {
     "name": "stdout",
     "output_type": "stream",
     "text": [
      "===Menu du jour===\n",
      "Pâtes\n",
      "Pizza\n",
      "Salade\n",
      "Burger\n",
      "Tacos\n",
      "===Menu végétarien===\n",
      "Pâtes\n",
      "Pizza\n",
      "Salade\n",
      "===Menu sans gluten===\n",
      "Pâtes\n",
      "Salade\n",
      "Tacos\n"
     ]
    }
   ],
   "source": [
    "string[] menu = [\"Pâtes\", \"Pizza\", \"Salade\", \"Burger\", \"Tacos\"];\n",
    "string[] menuVégétarien = [\"Pâtes\", \"Pizza\", \"Salade\"];\n",
    "string[] menuSansGluten = [\"Pâtes\", \"Salade\", \"Tacos\"];\n",
    "\n",
    "void AfficherMenu(string[] menu){\n",
    "    foreach(string option in menu){\n",
    "        Console.WriteLine(option);\n",
    "    }\n",
    "}\n",
    "\n",
    "Console.WriteLine(\"===Menu du jour===\");\n",
    "AfficherMenu(menu); \n",
    "Console.WriteLine(\"===Menu végétarien===\");\n",
    "AfficherMenu(menuVégétarien);\n",
    "Console.WriteLine(\"===Menu sans gluten===\");\n",
    "AfficherMenu(menuSansGluten);"
   ]
  },
  {
   "cell_type": "markdown",
   "metadata": {},
   "source": [
    "# Jeu de Cartes : Passe ou Retire\n",
    "Programmer la fonction JouerCartes. Cette fonction prend en paramètre un tableau de chaînes représentant un jeu de cartes et un entier représentant le nombre maximum de cartes à tirer. \n",
    "La fonction doit parcourir le jeu de cartes et afficher chaque carte tirée. \n",
    "- Si la carte est \"Passe\", la fonction doit utiliser l'instruction `continue` pour passer à la carte suivante sans l'afficher. \n",
    "- Si la carte est \"stop\", la fonction doit utiliser l'instruction `break` pour arrêter de tirer des cartes et terminer la fonction.\n",
    "\n",
    "*Vous devez obligatoirement utiliser les instructions `break` et `continue`.*"
   ]
  },
  {
   "cell_type": "code",
   "execution_count": null,
   "metadata": {
    "dotnet_interactive": {
     "language": "csharp"
    },
    "polyglot_notebook": {
     "kernelName": "csharp"
    },
    "vscode": {
     "languageId": "polyglot-notebook"
    }
   },
   "outputs": [
    {
     "name": "stdout",
     "output_type": "stream",
     "text": [
      "8 de pique\n",
      "3 de pique\n"
     ]
    }
   ],
   "source": [
    "void JouerCartes(string[] cartes){\n",
    "    foreach(string carte in cartes){\n",
    "        if (carte == \"passe\"){\n",
    "            continue;\n",
    "        }\n",
    "        if (carte == \"stop\"){\n",
    "            break;\n",
    "        }\n",
    "        Console.WriteLine(carte);\n",
    "    }\n",
    "}\n",
    "\n",
    "string[] cartes = [\"7 de coeur\", \"passe\", \"3 de pique\", \"stop\", \"10 de trèfle\", \"passe\", \"2 de carreau\", \"passe\", \"5 de coeur\", \"stop\", \"8 de pique\", \"9 de trèfle\"];\n",
    "Random rand = new Random();\n",
    "rand.Shuffle(cartes); // Mélanger les cartes\n",
    "JouerCartes(cartes);\n",
    "\n"
   ]
  }
 ],
 "metadata": {
  "kernelspec": {
   "display_name": ".NET (C#)",
   "language": "C#",
   "name": ".net-csharp"
  },
  "language_info": {
   "name": "python"
  },
  "polyglot_notebook": {
   "kernelInfo": {
    "defaultKernelName": "csharp",
    "items": [
     {
      "aliases": [],
      "name": "csharp"
     }
    ]
   }
  }
 },
 "nbformat": 4,
 "nbformat_minor": 2
}
