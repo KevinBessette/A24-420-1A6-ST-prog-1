{
 "cells": [
  {
   "cell_type": "markdown",
   "metadata": {},
   "source": [
    "### 1. Demander le prénom à l’utilisateur et le saluer sous la forme « Bonjour [PRÉNOM]! »."
   ]
  },
  {
   "cell_type": "markdown",
   "metadata": {},
   "source": [
    "``` Pseudo-code\n",
    "\n",
    "#1 - Pseudo-code\n",
    "\n",
    "VARIABLE texte prenom\n",
    "LIRE prenom\n",
    "ÉCRIRE \"Bonjour \" + prenom + \"!\"\n",
    "\n",
    "```"
   ]
  },
  {
   "cell_type": "code",
   "execution_count": null,
   "metadata": {
    "dotnet_interactive": {
     "language": "csharp"
    },
    "polyglot_notebook": {
     "kernelName": "csharp"
    }
   },
   "outputs": [],
   "source": [
    "// #1 - C#\n",
    "string prenom = Console.ReadLine();\n",
    "Console.WriteLine(\"Bonjour \" + prenom + \" !\");"
   ]
  },
  {
   "cell_type": "markdown",
   "metadata": {},
   "source": [
    "### 2. Demandez une distance en kilomètre et affichez la conversion en miles."
   ]
  },
  {
   "cell_type": "markdown",
   "metadata": {},
   "source": [
    "``` Pseudo-code\n",
    "\n",
    "// #2 - Pseudo-code\n",
    "\n",
    "CONSTANTE réel FacteurConversion = 0.621371\n",
    "VARIABLE réel distanceKm\n",
    "LIRE distanceKm\n",
    "ECRIRE distanceKm + \" kilomètre(s) égale \" + (distanceKm * FacteurConversion) + \" mile(s)\"\n",
    "\n",
    "```"
   ]
  },
  {
   "cell_type": "code",
   "execution_count": null,
   "metadata": {
    "dotnet_interactive": {
     "language": "csharp"
    },
    "polyglot_notebook": {
     "kernelName": "csharp"
    }
   },
   "outputs": [],
   "source": [
    "\n",
    "// #2 - C#\n",
    "\n",
    "const double FacteurConversion= 0.621371;\n",
    "double distanceKm = Convert.ToDouble(Console.ReadLine());\n",
    "Console.WriteLine(distanceKm + \" kilomètre(s) égale \" + (distanceKm * FacteurConversion) + \" mile(s)\");"
   ]
  },
  {
   "cell_type": "markdown",
   "metadata": {},
   "source": [
    "### 3. Demandez deux nombres entiers à l’utilisateur et indiquez combien de fois le premier nombre entre complètement dans le deuxième nombre. Afficher un message du type, le nombre X entre N fois dans le nombre Y."
   ]
  },
  {
   "cell_type": "markdown",
   "metadata": {},
   "source": [
    "``` Pseudo-code\n",
    "\n",
    "// #3 - Pseudo-code\n",
    "\n",
    "ÉCRIRE \"Veuillez saisir le nombre 1 :\"\n",
    "VARIABLE entier nb1\n",
    "LIRE nb1 \n",
    "\n",
    "ÉCRIRE \"Veuillez saisir le nombre 2 :\"\n",
    "VARIABLE entier nb2\n",
    "LIRE nb2\n",
    "\n",
    "ÉCRIRE \"Le nombre \" + nb1 +\" entre \" + nb2/nb1 + \" fois dans le nombre \" + nb2 + \".\"\n",
    "\n",
    "```"
   ]
  },
  {
   "cell_type": "code",
   "execution_count": null,
   "metadata": {
    "dotnet_interactive": {
     "language": "csharp"
    },
    "polyglot_notebook": {
     "kernelName": "csharp"
    }
   },
   "outputs": [],
   "source": [
    "// #3 - C#\n",
    "Console.WriteLine(\"Veuillez saisir le nombre 1 :\");\n",
    "int nb1 = Convert.ToInt32(Console.ReadLine());\n",
    "\n",
    "Console.WriteLine(\"Veuillez saisir le nombre 2 :\");\n",
    "int nb2 = Convert.ToInt32(Console.ReadLine());\n",
    "\n",
    "Console.WriteLine($\"Le nombre {nb1} entre { nb2/nb1 } fois dans le nombre {nb2}.\");\n"
   ]
  },
  {
   "cell_type": "markdown",
   "metadata": {},
   "source": [
    "### 4. Demander le prix d’un article et appliquer la TVQ et TPS. Afficher le prix de l’article, la valeur de la TPS, la valeur de la TVQ et le total de la vente."
   ]
  },
  {
   "cell_type": "markdown",
   "metadata": {},
   "source": [
    "``` Pseudo-code\n",
    "\n",
    "// #4 - Pseudo-code\n",
    "\n",
    "CONSTANTE réel TauxTPS = 0.05\n",
    "CONSTANTE réel TauxTVQ = 0.09975\n",
    "\n",
    "ÉCRIRE \"Veuillez saisir le prix de l'article :\"\n",
    "VARIABLE réel prixArticle\n",
    "LIRE prixArticle\n",
    "\n",
    "ÉCRIRE \"Prix de l'article : \" + prixArticle + \" $\"\n",
    "ÉCRIRE \"TPS : \" + (Arrondir(prixArticle * TauxTPS)) + \" $\"\n",
    "ÉCRIRE \"TVQ : \" + (Arrondir(prixArticle * TauxTVQ)) + \" $\"\n",
    "ÉCRIRE \"Prix total : \" + (Arrondir(prixArticle + prixArticle * TauxTPS + prixArticle * TauxTVQ)) + \" $\"\n",
    "```"
   ]
  },
  {
   "cell_type": "code",
   "execution_count": null,
   "metadata": {
    "dotnet_interactive": {
     "language": "csharp"
    },
    "polyglot_notebook": {
     "kernelName": "csharp"
    }
   },
   "outputs": [],
   "source": [
    "// #4 - C#\n",
    "\n",
    "const double TauxTPS = 0.05;\n",
    "const double TauxTVQ = 0.09975;\n",
    "\n",
    "Console.WriteLine(\"Veuillez saisir le prix de l'article :\");\n",
    "double prixArticle = Convert.ToDouble(Console.ReadLine());\n",
    "\n",
    "Console.WriteLine($\"Prix de l'article : {prixArticle} $\");\n",
    "Console.WriteLine($\"TPS : { prixArticle * TauxTPS } $\");\n",
    "Console.WriteLine($\"TVQ : { prixArticle * TauxTVQ } $\");\n",
    "Console.WriteLine($\"Prix total : { prixArticle + prixArticle * TauxTPS + prixArticle * TauxTVQ }$\");\n"
   ]
  },
  {
   "cell_type": "markdown",
   "metadata": {},
   "source": [
    "### 5. Dans une famille, le père a 32 ans, la mère 30 ans, son fils a 5 ans, mais on ne connaît pas l’âge de sa fille. Par contre, on sait que la somme de l’âge des parents est égale à 5 fois la somme de l’âge des enfants. Quel est l’âge de la fille?"
   ]
  },
  {
   "cell_type": "markdown",
   "metadata": {},
   "source": [
    "```Pseudo-code\n",
    "\n",
    "// #5 - Pseudo-code \n",
    "\n",
    "VARIABLE entier agePere\n",
    "agePere = 32\n",
    "\n",
    "VARIABLE entier ageMere \n",
    "ageMere = 30\n",
    "\n",
    "VARIABLE entier ageFils \n",
    "ageFils = 5\n",
    "\n",
    "ÉCRIRE \"agePere + ageMere = 5*(ageFils + ageFille)\"\n",
    "\n",
    "ÉCRIRE \"Âge père : \" + agePere + ans\"\n",
    "ÉCRIRE \"Âge mère : \" + ageMere + ans\"\n",
    "ÉCRIRE \"Âge fils : \" + ageFils + ans\"\n",
    "ÉCRIRE \"Âge fille : \" + ((agePere + ageMere) / 5*ageFils)/5);\n",
    "```"
   ]
  },
  {
   "cell_type": "code",
   "execution_count": null,
   "metadata": {
    "dotnet_interactive": {
     "language": "csharp"
    },
    "polyglot_notebook": {
     "kernelName": "csharp"
    }
   },
   "outputs": [],
   "source": [
    "// #5 - C#\n",
    "int agePere = 32;\n",
    "int ageMere = 30;\n",
    "int ageFils = 5;\n",
    "\n",
    "Console.WriteLine(\"agePere + ageMere = 5*(ageFils + ageFille)\");\n",
    "\n",
    "Console.WriteLine(\"Âge père : \" + agePere + }\" ans\");\n",
    "Console.WriteLine(\"Âge mère : \" + ageMere + }\" ans\");\n",
    "Console.WriteLine(\"Âge fils : \" + ageFils + }\" ans\");\n",
    "Console.WriteLine(\"Âge fille : \" + ((agePere + ageMere) / 5*ageFils)/5 + \" ans\");\n"
   ]
  },
  {
   "cell_type": "markdown",
   "metadata": {},
   "source": [
    "### 6.\tOn désire connaître la longueur de l’hypoténuse dans un triangle rectangle. Demandez la longueur des cathètes et affichez la longueur des cathètes et de l’hypoténuse."
   ]
  },
  {
   "cell_type": "markdown",
   "metadata": {},
   "source": [
    "```Pseudo-code\n",
    "\n",
    "// #6 - Pseudo-code\n",
    "\n",
    "ÉCRIRE \"Veuillez saisir votre taille en centimètre : \" \n",
    "VARIABLE entier taille\n",
    "LIRE taille\n",
    "\n",
    "ÉCRIRE \"Veuillez saisir votre masse en kilogramme : \"\n",
    "VARIABLE réel masse\n",
    "LIRE masse\n",
    "\n",
    "VARIABLE réel imc\n",
    "imc = masse / (taille * taille);\n",
    "\n",
    "ÉCRIRE \"Votre IMC est de : \" + imc\n",
    "```"
   ]
  },
  {
   "cell_type": "code",
   "execution_count": null,
   "metadata": {
    "dotnet_interactive": {
     "language": "csharp"
    },
    "polyglot_notebook": {
     "kernelName": "csharp"
    }
   },
   "outputs": [],
   "source": [
    "// #6 - #C\n",
    "\n",
    "Console.WriteLine(\"Veuillez saisir votre taille en centimètre : \");\n",
    "int taille = Convert.ToInt32(Console.ReadLine());\n",
    "\n",
    "Console.WriteLine(\"Veuillez saisir votre masse en kilogramme : \");\n",
    "double masse = Convert.ToDouble(Console.ReadLine());\n",
    "\n",
    "double imc = masse / (taille ^ 2);\n",
    "\n",
    "Console.WriteLine(\"Votre IMC est de : \" + imc);"
   ]
  }
 ],
 "metadata": {
  "kernelspec": {
   "display_name": ".NET (C#)",
   "language": "C#",
   "name": ".net-csharp"
  },
  "language_info": {
   "name": "polyglot-notebook"
  },
  "polyglot_notebook": {
   "kernelInfo": {
    "defaultKernelName": "csharp",
    "items": [
     {
      "aliases": [],
      "languageName": "csharp",
      "name": "csharp"
     }
    ]
   }
  }
 },
 "nbformat": 4,
 "nbformat_minor": 2
}
