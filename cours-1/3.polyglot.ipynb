{
 "cells": [
  {
   "cell_type": "markdown",
   "metadata": {},
   "source": [
    "# Polyglot\n",
    "Ce fichier \"polyglot.ipynb\" est ce qu'on appel un fichier polyglot.  \n",
    "### Qu'est-ce que c'est?\n",
    "Un fichier qui permet d'écrire successivement des notes de cours en markdown et des morceaux de code en c# qui peuvent être exécuté de façon isolé.\n",
    "### Qu'est-ce que le markdown\n",
    "Une syntaxe minimaliste pour écrire du text avec de la mise en forme tout en restant \"text-base\"\n"
   ]
  },
  {
   "cell_type": "code",
   "execution_count": 2,
   "metadata": {
    "dotnet_interactive": {
     "language": "csharp"
    },
    "polyglot_notebook": {
     "kernelName": "csharp"
    },
    "vscode": {
     "languageId": "polyglot-notebook"
    }
   },
   "outputs": [
    {
     "name": "stdout",
     "output_type": "stream",
     "text": [
      "Allo, classe de prog1!\n",
      "Est-ce que, ça va bien"
     ]
    }
   ],
   "source": [
    "\n",
    "Console.WriteLine(\"Allo, classe de prog1!\");\n",
    "Console.Write(\"Est-ce que, \");\n",
    "Console.Write(\"ça va bien?\");\n"
   ]
  },
  {
   "cell_type": "markdown",
   "metadata": {},
   "source": [
    "## Pourquoi l'utiliser?\n",
    "\n",
    "- Les fichiers Polyglot seront utilisés pour l'enseignement et la démonstration de concepts de programmation.\n",
    "  - Il me permettront de vous fournir des exemples de code auxquelles vous pourrez facilement ajouter des notes personnelles.\n",
    "- Occassionnelement, il y aura aussi des sections à remplir afin de vous permettre de pratiquer les nouveaux concepts.\n",
    "- Vous remarquerez bien vite que les algorithmes polyglot ont leur limite.  Par exemple, ont ne peux pas faire de \"input\".\n",
    "  - C'est pourquoi nous allons les utilisé judicieusement."
   ]
  }
 ],
 "metadata": {
  "kernelspec": {
   "display_name": ".NET (C#)",
   "language": "C#",
   "name": ".net-csharp"
  },
  "language_info": {
   "name": "python",
   "version": "3.10.11"
  },
  "polyglot_notebook": {
   "kernelInfo": {
    "defaultKernelName": "csharp",
    "items": [
     {
      "aliases": [],
      "name": "csharp"
     }
    ]
   }
  }
 },
 "nbformat": 4,
 "nbformat_minor": 2
}
