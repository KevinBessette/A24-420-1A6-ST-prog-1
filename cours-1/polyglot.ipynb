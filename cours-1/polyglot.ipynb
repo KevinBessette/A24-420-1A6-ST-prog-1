{
 "cells": [
  {
   "cell_type": "markdown",
   "metadata": {},
   "source": [
    "# Polyglot\n",
    "Ce fichier \"polyglot.ipynb\" est ce qu'on appel un fichier polyglot.  \n",
    "### Qu'est-ce que c'est?\n",
    "Un fichier qui permet d'écrire successivement des notes de cours en markdown et des morceaux de code en c# qui peuvent être exécuté de façon isolé."
   ]
  },
  {
   "cell_type": "code",
   "execution_count": null,
   "metadata": {
    "dotnet_interactive": {
     "language": "csharp"
    },
    "polyglot_notebook": {
     "kernelName": "csharp"
    },
    "vscode": {
     "languageId": "polyglot-notebook"
    }
   },
   "outputs": [],
   "source": [
    "\n",
    "Console.WriteLine(\"Allo, classe de prog1!\");\n"
   ]
  },
  {
   "cell_type": "markdown",
   "metadata": {},
   "source": [
    "## Pourquoi l'utiliser?\n",
    "\n",
    "- Les fichiers Polyglot seront utilisés pour l'enseignement et la démonstration de concepts de programmation.\n",
    "Il me permettront de vous fournir des exemples de code auxquelles vous pourrez facilement ajouter des notes personnelles.\n",
    "\n",
    "- Occassionnelement, il y aura aussi des sections à remplir afin de vous permettre de pratiquer les nouveaux concepts."
   ]
  }
 ],
 "metadata": {
  "kernelspec": {
   "display_name": ".NET (C#)",
   "language": "C#",
   "name": ".net-csharp"
  },
  "language_info": {
   "name": "python",
   "version": "3.10.11"
  },
  "polyglot_notebook": {
   "kernelInfo": {
    "defaultKernelName": "csharp",
    "items": [
     {
      "aliases": [],
      "name": "csharp"
     }
    ]
   }
  }
 },
 "nbformat": 4,
 "nbformat_minor": 2
}
