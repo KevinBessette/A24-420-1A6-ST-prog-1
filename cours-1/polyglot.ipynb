{
 "cells": [
  {
   "cell_type": "markdown",
   "metadata": {},
   "source": [
    "# Polyglot\n",
    "Ce fichier \"polyglot.ipynb\" est ce qu'on appel un fichier polyglot.  \n",
    "### Qu'est-ce que c'est?\n",
    "Un fichier qui permet d'écrire successivement des notes de cours en markdown et des morceaux de code en c# qui peuvent être exécuté de façon isolé."
   ]
  },
  {
   "cell_type": "code",
   "execution_count": 7,
   "metadata": {
    "dotnet_interactive": {
     "language": "csharp"
    },
    "polyglot_notebook": {
     "kernelName": "csharp"
    },
    "vscode": {
     "languageId": "polyglot-notebook"
    }
   },
   "outputs": [
    {
     "name": "stdout",
     "output_type": "stream",
     "text": [
      "Allo, classe de prog1!\r\n"
     ]
    }
   ],
   "source": [
    "\n",
    "Console.WriteLine(\"Allo, classe de prog1!\");\n"
   ]
  }
 ],
 "metadata": {
  "kernelspec": {
   "display_name": "Python 3",
   "language": "python",
   "name": "python3"
  },
  "language_info": {
   "name": "python",
   "version": "3.10.11"
  },
  "polyglot_notebook": {
   "kernelInfo": {
    "defaultKernelName": "csharp",
    "items": [
     {
      "aliases": [],
      "name": "csharp"
     }
    ]
   }
  }
 },
 "nbformat": 4,
 "nbformat_minor": 2
}
