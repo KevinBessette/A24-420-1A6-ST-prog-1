{
 "cells": [
  {
   "cell_type": "markdown",
   "metadata": {},
   "source": [
    "## Structures itératives\n",
    "- Syntaxe en C#\n",
    "- Exercice"
   ]
  },
  {
   "cell_type": "markdown",
   "metadata": {},
   "source": [
    "### Boucle POUR...À\n",
    "- Pour faire une boucle `POUR ... À` en c#, il faut utiliser le mot `for`  Il y a ensuite 3 chose à faire.  \n",
    "  - Déclarer la variable de type entier avec une valeur initiale.\n",
    "  - Déterminer la valeur maximale à l'aide d'une condition de fin.\n",
    "  - Déterminer l'intervale de progression de l'entier.\n",
    "- On utilise ensuite les {} pour déterminer le bloc de code à répéter (comme avec les if/else)"
   ]
  },
  {
   "cell_type": "code",
   "execution_count": 1,
   "metadata": {
    "dotnet_interactive": {
     "language": "csharp"
    },
    "polyglot_notebook": {
     "kernelName": "csharp"
    },
    "vscode": {
     "languageId": "polyglot-notebook"
    }
   },
   "outputs": [
    {
     "name": "stdout",
     "output_type": "stream",
     "text": [
      "01234"
     ]
    }
   ],
   "source": [
    "// Boucle for standard, utilisé dans 80% des cas où on connait d'avance le nombre d'itération à faire.\n",
    "for (int i = 0 ; i < 5; i++){ // Entre parenthèse, les 3 instructions, séparé par un ;\n",
    "    Console.Write(i); // Le code qui sera répété pour chaque valeur de i\n",
    "} // Fin du bloc de code"
   ]
  },
  {
   "cell_type": "markdown",
   "metadata": {},
   "source": [
    "Il permit de modifier l'interval avec un +=, -= ou --"
   ]
  },
  {
   "cell_type": "code",
   "execution_count": 2,
   "metadata": {
    "dotnet_interactive": {
     "language": "csharp"
    },
    "polyglot_notebook": {
     "kernelName": "csharp"
    },
    "vscode": {
     "languageId": "polyglot-notebook"
    }
   },
   "outputs": [
    {
     "name": "stdout",
     "output_type": "stream",
     "text": [
      "02468"
     ]
    }
   ],
   "source": [
    "for (int i = 0 ; i < 10; i += 2){ // Entre parenthèse, les 3 instructions, séparé par un ;\n",
    "    Console.Write(i); // Le code qui sera répété pour chaque valeur de i\n",
    "} // Fin du bloc de code"
   ]
  },
  {
   "cell_type": "markdown",
   "metadata": {},
   "source": [
    "Vous pouvez aussi commencer plus haut que 0 et faire une boucle descendante."
   ]
  },
  {
   "cell_type": "code",
   "execution_count": 3,
   "metadata": {
    "dotnet_interactive": {
     "language": "csharp"
    },
    "polyglot_notebook": {
     "kernelName": "csharp"
    },
    "vscode": {
     "languageId": "polyglot-notebook"
    }
   },
   "outputs": [
    {
     "name": "stdout",
     "output_type": "stream",
     "text": [
      "10987654321"
     ]
    }
   ],
   "source": [
    "for (int i = 10 ; i > 0; i--){ // Entre parenthèse, les 3 instructions, séparé par un ;\n",
    "    Console.Write(i); // Le code qui sera répété pour chaque valeur de i\n",
    "} // Fin du bloc de code"
   ]
  },
  {
   "cell_type": "markdown",
   "metadata": {},
   "source": [
    "Il est aussi possible d'imbriquer des boucles, les unes dans les autres, en utilisant une autre variable"
   ]
  },
  {
   "cell_type": "code",
   "execution_count": 8,
   "metadata": {
    "dotnet_interactive": {
     "language": "csharp"
    },
    "polyglot_notebook": {
     "kernelName": "csharp"
    },
    "vscode": {
     "languageId": "polyglot-notebook"
    }
   },
   "outputs": [
    {
     "name": "stdout",
     "output_type": "stream",
     "text": [
      "**********\n",
      "**********\n",
      "**********\n",
      "**********\n",
      "**********\n"
     ]
    }
   ],
   "source": [
    "for (int i = 0 ; i < 5; i++){\n",
    "    for (int j = 0 ; j < 10; j++){\n",
    "        Console.Write(\"*\");\n",
    "    }\n",
    "    Console.Write(\"\\n\");  // \\n est le caractère qui représente un saut de ligne.\n",
    "}"
   ]
  },
  {
   "cell_type": "markdown",
   "metadata": {},
   "source": [
    "### Boucle TANTQUE\n",
    "- Pour faire une boucle TANTQUE, le mot-clé est while.\n",
    "- On écrit la condition pour poursuivre la boucle entre parenthèse (comme avec un if/else)\n",
    "- On écrit le code à répéter entre {}"
   ]
  },
  {
   "cell_type": "code",
   "execution_count": 1,
   "metadata": {
    "dotnet_interactive": {
     "language": "csharp"
    },
    "polyglot_notebook": {
     "kernelName": "csharp"
    },
    "vscode": {
     "languageId": "polyglot-notebook"
    }
   },
   "outputs": [
    {
     "name": "stdout",
     "output_type": "stream",
     "text": [
      "0123456789"
     ]
    }
   ],
   "source": [
    "int i = 0;\n",
    "while (i < 10){\n",
    "    Console.Write(i);\n",
    "    i++;\n",
    "}"
   ]
  },
  {
   "cell_type": "markdown",
   "metadata": {},
   "source": [
    "On peut aussi utiliser une variable booléene pour définir la condition de sortie."
   ]
  },
  {
   "cell_type": "code",
   "execution_count": 1,
   "metadata": {
    "dotnet_interactive": {
     "language": "csharp"
    },
    "polyglot_notebook": {
     "kernelName": "csharp"
    },
    "vscode": {
     "languageId": "polyglot-notebook"
    }
   },
   "outputs": [
    {
     "name": "stdout",
     "output_type": "stream",
     "text": [
      "-4-3-2-1"
     ]
    }
   ],
   "source": [
    "bool exitLoop = false;\n",
    "int i = -4;\n",
    "while (!exitLoop){\n",
    "    Console.Write(i);\n",
    "    i++;\n",
    "    if (i == 0){\n",
    "        exitLoop = true;\n",
    "    }\n",
    "}"
   ]
  }
 ],
 "metadata": {
  "kernelspec": {
   "display_name": ".NET (C#)",
   "language": "C#",
   "name": ".net-csharp"
  },
  "language_info": {
   "name": "python"
  },
  "polyglot_notebook": {
   "kernelInfo": {
    "defaultKernelName": "csharp",
    "items": [
     {
      "aliases": [],
      "name": "csharp"
     }
    ]
   }
  }
 },
 "nbformat": 4,
 "nbformat_minor": 2
}
