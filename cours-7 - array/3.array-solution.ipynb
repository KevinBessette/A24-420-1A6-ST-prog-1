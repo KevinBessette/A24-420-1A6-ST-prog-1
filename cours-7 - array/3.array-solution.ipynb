{
 "cells": [
  {
   "cell_type": "markdown",
   "metadata": {},
   "source": [
    "# Collection : *array*\n",
    "- Déclarer un *array*\n",
    "- Accèder aux éléments d'un *array*\n",
    "- Parcourir un *array*\n",
    "- Modifier un *array*\n",
    "- Saviez-vous que?"
   ]
  },
  {
   "cell_type": "code",
   "execution_count": 3,
   "metadata": {
    "dotnet_interactive": {
     "language": "csharp"
    },
    "polyglot_notebook": {
     "kernelName": "csharp"
    },
    "vscode": {
     "languageId": "polyglot-notebook"
    }
   },
   "outputs": [
    {
     "name": "stdout",
     "output_type": "stream",
     "text": [
      "Peach\n",
      "3\n"
     ]
    }
   ],
   "source": [
    "string[] names = {\"Mario\",\"Luigi\",\"Peach\",\"Todd\"};\n",
    "int[] numbers = {6,3,8,3,0,1};\n",
    "Console.WriteLine(names[2]);\n",
    "Console.WriteLine(numbers[3]);"
   ]
  },
  {
   "cell_type": "markdown",
   "metadata": {},
   "source": [
    "- Il est aussi possible de déclarer un *array* d'une taille fixe mais sans valeurs initiales.\n",
    "- Les valeurs seront donc 0 ou \"\" selon le type.\n",
    "- La syntaxe est toutefois un peu différente."
   ]
  },
  {
   "cell_type": "code",
   "execution_count": 4,
   "metadata": {
    "dotnet_interactive": {
     "language": "csharp"
    },
    "polyglot_notebook": {
     "kernelName": "csharp"
    },
    "vscode": {
     "languageId": "polyglot-notebook"
    }
   },
   "outputs": [
    {
     "name": "stdout",
     "output_type": "stream",
     "text": [
      "\n",
      "\u0000\n",
      "0\n",
      "0\n",
      "False\n"
     ]
    }
   ],
   "source": [
    "string[] emptyStrings = new string[5];\n",
    "char[] emptyChars = new char[5];\n",
    "int[] emptyInts = new int[5];\n",
    "double[] emptyDoubles = new double[5];\n",
    "bool[] emptyBools = new bool[5];\n",
    "\n",
    "Console.WriteLine(emptyStrings[0]);\n",
    "Console.WriteLine(emptyChars[1]);\n",
    "Console.WriteLine(emptyInts[2]);\n",
    "Console.WriteLine(emptyDoubles[3]);\n",
    "Console.WriteLine(emptyBools[4]);\n"
   ]
  },
  {
   "cell_type": "markdown",
   "metadata": {},
   "source": [
    "- Parcourir un *array*"
   ]
  },
  {
   "cell_type": "code",
   "execution_count": 5,
   "metadata": {
    "dotnet_interactive": {
     "language": "csharp"
    },
    "polyglot_notebook": {
     "kernelName": "csharp"
    },
    "vscode": {
     "languageId": "polyglot-notebook"
    }
   },
   "outputs": [
    {
     "name": "stdout",
     "output_type": "stream",
     "text": [
      "Mario\n",
      "Luigi\n",
      "Peach\n",
      "Todd\n"
     ]
    }
   ],
   "source": [
    "string[] names = {\"Mario\",\"Luigi\",\"Peach\",\"Todd\"};\n",
    "int max = names.Length; // La propriété Length d'un array retourne sa taille\n",
    "for (int i = 0; i < names.Length ; i++){\n",
    "    Console.WriteLine(names[i]);\n",
    "}"
   ]
  },
  {
   "cell_type": "markdown",
   "metadata": {},
   "source": [
    "- Attention, `.Length` compte les éléments à partir à **1**, mais accèder à un élément se fait à partir de **0**.\n",
    "- Donc la position du dernier élément d'un *array* est: `.Length - 1`"
   ]
  },
  {
   "cell_type": "code",
   "execution_count": 6,
   "metadata": {
    "dotnet_interactive": {
     "language": "csharp"
    },
    "polyglot_notebook": {
     "kernelName": "csharp"
    },
    "vscode": {
     "languageId": "polyglot-notebook"
    }
   },
   "outputs": [
    {
     "data": {
      "text/plain": [
       "Todd"
      ]
     },
     "metadata": {},
     "output_type": "display_data"
    }
   ],
   "source": [
    "string[] names = {\"Mario\",\"Luigi\",\"Peach\",\"Todd\"};\n",
    "names[names.Length - 1]"
   ]
  },
  {
   "cell_type": "markdown",
   "metadata": {},
   "source": [
    "- Les string sont en faites des collections de char"
   ]
  },
  {
   "cell_type": "code",
   "execution_count": 7,
   "metadata": {
    "dotnet_interactive": {
     "language": "csharp"
    },
    "polyglot_notebook": {
     "kernelName": "csharp"
    },
    "vscode": {
     "languageId": "polyglot-notebook"
    }
   },
   "outputs": [
    {
     "name": "stdout",
     "output_type": "stream",
     "text": [
      "r"
     ]
    }
   ],
   "source": [
    "string name = \"Wario\";\n",
    "Console.Write(name[2]);"
   ]
  },
  {
   "cell_type": "markdown",
   "metadata": {},
   "source": [
    "- Modifier une valeur dans un array"
   ]
  },
  {
   "cell_type": "code",
   "execution_count": 10,
   "metadata": {
    "vscode": {
     "languageId": "polyglot-notebook"
    }
   },
   "outputs": [
    {
     "name": "stdout",
     "output_type": "stream",
     "text": [
      "Luigi\n",
      "Yoshi\n"
     ]
    }
   ],
   "source": [
    "string[] names = {\"Mario\",\"Luigi\",\"Peach\",\"Todd\"};\n",
    "Console.WriteLine(names[1]);\n",
    "names[1] = \"Yoshi\";\n",
    "Console.WriteLine(names[1]);\n"
   ]
  },
  {
   "cell_type": "markdown",
   "metadata": {},
   "source": [
    "- Petit défi:  Parcourir le *array* ci-dessous et compter le nombre de chiffre négatif"
   ]
  },
  {
   "cell_type": "code",
   "execution_count": 12,
   "metadata": {
    "dotnet_interactive": {
     "language": "csharp"
    },
    "polyglot_notebook": {
     "kernelName": "csharp"
    },
    "vscode": {
     "languageId": "polyglot-notebook"
    }
   },
   "outputs": [
    {
     "name": "stdout",
     "output_type": "stream",
     "text": [
      "Il y a 12 chiffre négatif dans le array\r\n"
     ]
    }
   ],
   "source": [
    "int[] nums = {52,99,-12,10,78,75,35,-42,66,22,52,-66,80,86,74,93,-81,-77,-59,-62,-87,98,11,-49,-39,-69,-6,3};\n",
    "int counter = 0;\n",
    "for (int i = 0; i < nums.Length; i++){\n",
    "    if (nums[i] < 0){\n",
    "        counter++;\n",
    "    }\n",
    "}\n",
    "Console.WriteLine($\"Il y a {counter} chiffre négatif dans le array\")"
   ]
  }
 ],
 "metadata": {
  "kernelspec": {
   "display_name": ".NET (C#)",
   "language": "C#",
   "name": ".net-csharp"
  },
  "language_info": {
   "name": "python"
  },
  "polyglot_notebook": {
   "kernelInfo": {
    "defaultKernelName": "csharp",
    "items": [
     {
      "aliases": [],
      "name": "csharp"
     }
    ]
   }
  }
 },
 "nbformat": 4,
 "nbformat_minor": 2
}
