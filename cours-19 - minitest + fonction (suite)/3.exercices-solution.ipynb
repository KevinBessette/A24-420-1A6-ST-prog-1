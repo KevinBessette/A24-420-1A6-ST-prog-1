{
 "cells": [
  {
   "cell_type": "markdown",
   "id": "9ce6f5f3",
   "metadata": {},
   "source": [
    "\n",
    "# Exercices sur les Fonctions Avancées en C#\n",
    "\n",
    "Ces exercices couvrent les notions suivantes :\n",
    "- Valeurs par défaut\n",
    "- Passage de paramètres par référence\n",
    "- Surcharge de fonction\n",
    "- Paramètre de sortie\n",
    "\n",
    "Essayez de compléter chaque exercice dans une cellule de code en C#.\n",
    "    "
   ]
  },
  {
   "cell_type": "markdown",
   "id": "ab39a135",
   "metadata": {},
   "source": [
    "\n",
    "## Exercice 1 : Valeurs par défaut\n",
    "\n",
    "Créez une fonction `AfficherSalutation` qui prend deux paramètres :\n",
    "- `nom` de type `string`\n",
    "- `salutation` de type `string`, avec une valeur par défaut de `\"Bonjour\"`.\n",
    "\n",
    "La fonction doit afficher un message sous la forme \"Bonjour, nom\".\n",
    "\n",
    "Testez la fonction en appelant :\n",
    "- `AfficherSalutation(\"Alice\")` (qui utilise la valeur par défaut)\n",
    "- `AfficherSalutation(\"Bob\", \"Salut\")` (qui utilise une salutation personnalisée).\n",
    "    "
   ]
  },
  {
   "cell_type": "code",
   "execution_count": null,
   "id": "6103ba5f",
   "metadata": {
    "dotnet_interactive": {
     "language": "csharp"
    },
    "polyglot_notebook": {
     "kernelName": "csharp"
    },
    "vscode": {
     "languageId": "polyglot-notebook"
    }
   },
   "outputs": [],
   "source": [
    "\n",
    "void AfficherSalutation(string nom, string salutation = \"Bonjour\") {\n",
    "    Console.WriteLine($\"{salutation}, {nom}\");\n",
    "}\n",
    "\n",
    "// Tests\n",
    "AfficherSalutation(\"Alice\");\n",
    "AfficherSalutation(\"Bob\", \"Salut\");    "
   ]
  },
  {
   "cell_type": "markdown",
   "id": "e2c6d94c",
   "metadata": {},
   "source": [
    "\n",
    "## Exercice 2 : Passage de paramètres par référence\n",
    "\n",
    "Écrivez une fonction `AjouterDix` qui prend un entier `ref int nombre` et ajoute 10 à cette valeur.\n",
    "Initialisez une variable `int x = 5;`, puis appelez `AjouterDix(ref x);` et affichez la valeur de `x` après l'appel de la fonction.\n",
    "    "
   ]
  },
  {
   "cell_type": "code",
   "execution_count": null,
   "id": "402311e8",
   "metadata": {
    "dotnet_interactive": {
     "language": "csharp"
    },
    "polyglot_notebook": {
     "kernelName": "csharp"
    },
    "vscode": {
     "languageId": "polyglot-notebook"
    }
   },
   "outputs": [],
   "source": [
    "void AjouterDix(ref int nombre) {\n",
    "    nombre += 10;\n",
    "}\n",
    "\n",
    "// Test\n",
    "int x = 5;\n",
    "AjouterDix(ref x);\n",
    "Console.WriteLine(x); // Résultat attendu : 15\n",
    "    "
   ]
  },
  {
   "cell_type": "markdown",
   "id": "f5bc74ef",
   "metadata": {},
   "source": [
    "\n",
    "## Exercice 3 : Surcharge de fonction\n",
    "\n",
    "Créez trois fonctions appelées `CalculerAire`, chacune calculant l'aire d'une forme différente :\n",
    "1. `CalculerAire(int cote)` pour l'aire d'un carré.\n",
    "2. `CalculerAire(int largeur, int hauteur)` pour l'aire d'un rectangle.\n",
    "3. `CalculerAire(double rayon)` pour l'aire d'un cercle (utilisez `Math.PI`).\n",
    "\n",
    "Testez chaque version de la fonction.\n",
    "    "
   ]
  },
  {
   "cell_type": "code",
   "execution_count": null,
   "id": "6114e9e8",
   "metadata": {
    "dotnet_interactive": {
     "language": "csharp"
    },
    "polyglot_notebook": {
     "kernelName": "csharp"
    },
    "vscode": {
     "languageId": "polyglot-notebook"
    }
   },
   "outputs": [],
   "source": [
    "int CalculerAire(int cote){\n",
    "    return cote * cote;\n",
    "}\n",
    "int CalculerAire(int largeur, int hauteur) {\n",
    "    return largeur * hauteur;\n",
    "}\n",
    "double CalculerAire(double rayon) {\n",
    "    return Math.PI * rayon * rayon;\n",
    "}\n",
    "\n",
    "// Tests\n",
    "Console.WriteLine(CalculerAire(5));           // Carré\n",
    "Console.WriteLine(CalculerAire(4, 6));        // Rectangle\n",
    "Console.WriteLine(CalculerAire(3.5));         // Cercle\n",
    "    "
   ]
  },
  {
   "cell_type": "markdown",
   "id": "32a6ae76",
   "metadata": {},
   "source": [
    "\n",
    "## Exercice 4 : Paramètre de sortie\n",
    "\n",
    "Écrivez une fonction `Diviser` qui prend deux entiers `a` et `b`, et utilise un paramètre de sortie `out int resultat`.\n",
    "La fonction doit retourner `true` si `b` n'est pas zéro et diviser `a` par `b`. Si `b` est zéro, elle retourne `false`.\n",
    "\n",
    "Testez la fonction avec `a = 10, b = 2` et `a = 10, b = 0`.\n",
    "    "
   ]
  },
  {
   "cell_type": "code",
   "execution_count": null,
   "id": "88f84714",
   "metadata": {
    "dotnet_interactive": {
     "language": "csharp"
    },
    "polyglot_notebook": {
     "kernelName": "csharp"
    },
    "vscode": {
     "languageId": "polyglot-notebook"
    }
   },
   "outputs": [
    {
     "name": "stdout",
     "output_type": "stream",
     "text": [
      "Résultat : 5\n",
      "Division par zéro impossible.\n"
     ]
    }
   ],
   "source": [
    "bool Diviser(int a, int b, out int resultat) {\n",
    "    try{\n",
    "        resultat = a / b;\n",
    "        return true;\n",
    "    } \n",
    "    catch(Exception) {\n",
    "        resultat = 0;\n",
    "        return false;\n",
    "    }\n",
    "}\n",
    "\n",
    "// Tests\n",
    "int res;\n",
    "Console.WriteLine(Diviser(10, 2, out res) ? $\"Résultat : {res}\" : \"Division par zéro impossible.\"); \n",
    "Console.WriteLine(Diviser(10, 0, out res) ? $\"Résultat : {res}\" : \"Division par zéro impossible.\"); "
   ]
  }
 ],
 "metadata": {
  "kernelspec": {
   "display_name": ".NET (C#)",
   "language": "C#",
   "name": ".net-csharp"
  },
  "language_info": {
   "name": "python"
  },
  "polyglot_notebook": {
   "kernelInfo": {
    "defaultKernelName": "csharp",
    "items": [
     {
      "aliases": [],
      "name": "csharp"
     }
    ]
   }
  }
 },
 "nbformat": 4,
 "nbformat_minor": 5
}
