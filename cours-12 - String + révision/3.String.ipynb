{
 "cells": [
  {
   "cell_type": "markdown",
   "metadata": {},
   "source": [
    "# Manipulation de chaine de caractère\n",
    "Utilisez les méthodes de la classe String pour créer les fonctions demandées."
   ]
  },
  {
   "cell_type": "markdown",
   "metadata": {},
   "source": [
    "## Excercice 1\n",
    "Coder une fonction `ComparaisonLaxiste` qui compare deux chaînes de caractère mais sans tenir compte de la case ou des espaces qu'il pourrait y avoir au début ou à la fin.\n",
    "\n",
    "#### Tester votre fonction\n",
    "```c#\n",
    "ComparaisonLaxiste(\"Bob\",\"Bob\"); // retournera vrai\n",
    "ComparaisonLaxiste(\"BOB\",\"bob\"); // retournera vrai\n",
    "ComparaisonLaxiste(\"  BOb\",\"boB  \"); // retournera vrai\n",
    "ComparaisonLaxiste(\"Bob\",\"Bor\"); // retournera faux\n",
    "```"
   ]
  },
  {
   "cell_type": "code",
   "execution_count": 7,
   "metadata": {
    "dotnet_interactive": {
     "language": "csharp"
    },
    "polyglot_notebook": {
     "kernelName": "csharp"
    },
    "vscode": {
     "languageId": "polyglot-notebook"
    }
   },
   "outputs": [
    {
     "name": "stdout",
     "output_type": "stream",
     "text": [
      "True\n",
      "True\n",
      "True\n",
      "False\n"
     ]
    }
   ],
   "source": [
    "// TODO\n"
   ]
  },
  {
   "cell_type": "code",
   "execution_count": null,
   "metadata": {
    "vscode": {
     "languageId": "polyglot-notebook"
    }
   },
   "outputs": [],
   "source": []
  },
  {
   "cell_type": "code",
   "execution_count": null,
   "metadata": {
    "vscode": {
     "languageId": "polyglot-notebook"
    }
   },
   "outputs": [],
   "source": []
  },
  {
   "cell_type": "code",
   "execution_count": null,
   "metadata": {
    "vscode": {
     "languageId": "polyglot-notebook"
    }
   },
   "outputs": [],
   "source": [
    "\n",
    "Console.WriteLine(ComparaisonLaxiste(\"Bob\",\"Bob\"));\n",
    "Console.WriteLine(ComparaisonLaxiste(\"BOB\",\"bob\"));\n",
    "Console.WriteLine(ComparaisonLaxiste(\"  BOb\",\"boB  \"));\n",
    "Console.WriteLine(ComparaisonLaxiste(\"Bob\",\"Bor\"));"
   ]
  },
  {
   "cell_type": "markdown",
   "metadata": {},
   "source": [
    "## Excercice 2\n",
    "Coder une fonction CompterMot qui prend en paramètre une phrase et qui retourne le nombre de mot que contient la phrase.\n",
    "\n",
    "#### Tester votre fonction\n",
    "```c#\n",
    "CompterMot(\"Je suis un troubadour\"); // retournera 4\n",
    "CompterMot(\"Je ne suis pas un troubadour, je suis un magicien!\"); // retournera 10\n",
    "CompterMot(\"Hey! Il fait chaud!!! \"); // retournera 4\n",
    "CompterMot(\"J'ai faim\"); // retournera 3\n",
    "```"
   ]
  },
  {
   "cell_type": "code",
   "execution_count": 10,
   "metadata": {
    "dotnet_interactive": {
     "language": "csharp"
    },
    "polyglot_notebook": {
     "kernelName": "csharp"
    },
    "vscode": {
     "languageId": "polyglot-notebook"
    }
   },
   "outputs": [
    {
     "name": "stdout",
     "output_type": "stream",
     "text": [
      "4\n",
      "10\n",
      "4\n",
      "3\n"
     ]
    }
   ],
   "source": [
    "// TODO\n",
    "\n",
    "Console.WriteLine(CompterMot(\"Je suis un troubadour\")); // retournera 4\n",
    "Console.WriteLine(CompterMot(\"Je ne suis pas un troubadour, je suis un magicien!\")); // retournera 10\n",
    "Console.WriteLine(CompterMot(\"Hey! Il fait chaud!!! \")); // retournera 4\n",
    "Console.WriteLine(CompterMot(\"J'ai faim\")); // retournera 3"
   ]
  },
  {
   "cell_type": "markdown",
   "metadata": {},
   "source": [
    "## Excercice 3\n",
    "Coder une fonction `FormaterHeure`\n",
    "La fonction prend en paramètre un nombre de seconde et retourne une chaine représentant l'heure sous le format HH:MM:SS.  Tous les zéros doivent être présent.\n",
    "\n",
    "#### Tester votre fonction\n",
    "```c#\n",
    "FormaterHeure(122); // -> retournera 00:02:02\n",
    "FormaterHeure(140); // -> retournera 00:02:20\n",
    "FormaterHeure(0); // -> retournera 00:00:00\n",
    "FormaterHeure(-4); // -> retournera 00:00:00\n",
    "```"
   ]
  },
  {
   "cell_type": "code",
   "execution_count": 5,
   "metadata": {
    "dotnet_interactive": {
     "language": "csharp"
    },
    "polyglot_notebook": {
     "kernelName": "csharp"
    },
    "vscode": {
     "languageId": "polyglot-notebook"
    }
   },
   "outputs": [
    {
     "name": "stdout",
     "output_type": "stream",
     "text": [
      "00:02:02\n",
      "00:02:20\n",
      "00:00:00\n",
      "00:00:00\n"
     ]
    }
   ],
   "source": [
    "// TODO\n",
    "\n",
    "Console.WriteLine(FormaterHeure(122)); // -> retournera 00:02:02\n",
    "Console.WriteLine(FormaterHeure(140)); // -> retournera 00:02:20\n",
    "Console.WriteLine(FormaterHeure(0)); // -> retournera 00:00:00\n",
    "Console.WriteLine(FormaterHeure(-4)); // -> retournera 00:00:00"
   ]
  }
 ],
 "metadata": {
  "kernelspec": {
   "display_name": ".NET (C#)",
   "language": "C#",
   "name": ".net-csharp"
  },
  "language_info": {
   "name": "python"
  },
  "polyglot_notebook": {
   "kernelInfo": {
    "defaultKernelName": "csharp",
    "items": [
     {
      "aliases": [],
      "name": "csharp"
     }
    ]
   }
  }
 },
 "nbformat": 4,
 "nbformat_minor": 2
}
