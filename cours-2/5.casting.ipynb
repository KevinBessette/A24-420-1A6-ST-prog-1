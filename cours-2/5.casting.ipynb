{
 "cells": [
  {
   "cell_type": "markdown",
   "metadata": {},
   "source": [
    "### Casting\n",
    "La convertion de type, souvent appelé *Casting\", sert à assigner une valeur d'un certain type à une variable d'un autre type.\n",
    "\n",
    "La fonction `Console.ReadLine()` retourne automatiquement une chaine.  Si nous voulons lire un chiffre et le stocker dans une variable de type entier. Nous aurons une erreur.\n",
    "\n",
    "Nous devons faire du *Casting*."
   ]
  },
  {
   "cell_type": "code",
   "execution_count": 1,
   "metadata": {
    "dotnet_interactive": {
     "language": "csharp"
    },
    "polyglot_notebook": {
     "kernelName": "csharp"
    },
    "vscode": {
     "languageId": "polyglot-notebook"
    }
   },
   "outputs": [
    {
     "ename": "Error",
     "evalue": "(2,11): error CS0029: Cannot implicitly convert type 'string' to 'int'",
     "output_type": "error",
     "traceback": [
      "(2,11): error CS0029: Cannot implicitly convert type 'string' to 'int'"
     ]
    }
   ],
   "source": [
    "Console.WriteLine(\"Enter your age:\");\n",
    "int age = Console.ReadLine();\n",
    "Console.WriteLine(\"Your age is: \" + age);"
   ]
  },
  {
   "cell_type": "markdown",
   "metadata": {},
   "source": [
    "*Implicit Casting*: Ce fait automatiquement.  Convertir une variable vers un type ayant plus d'espace mémoire.  Il n'y aura pas de perte."
   ]
  },
  {
   "cell_type": "code",
   "execution_count": 2,
   "metadata": {
    "dotnet_interactive": {
     "language": "csharp"
    },
    "polyglot_notebook": {
     "kernelName": "csharp"
    },
    "vscode": {
     "languageId": "polyglot-notebook"
    }
   },
   "outputs": [
    {
     "name": "stdout",
     "output_type": "stream",
     "text": [
      "====== Implicit Casting ======\n",
      "9\n",
      "9\n"
     ]
    }
   ],
   "source": [
    "    int myInt = 9;\n",
    "    double myDouble = myInt;       // int vers double se fait automatiquement\n",
    "    \n",
    "    Console.WriteLine(\"====== Implicit Casting ======\"); \n",
    "    Console.WriteLine(myInt);      // Output 9\n",
    "    Console.WriteLine(myDouble);   // Output 9"
   ]
  },
  {
   "cell_type": "markdown",
   "metadata": {},
   "source": [
    "*Explicit Casting*: Doit être fait manuellement. Convertir une variable vers un type qui a moins d'espace mémoire réservé.  Il y aura une perte."
   ]
  },
  {
   "cell_type": "code",
   "execution_count": 3,
   "metadata": {
    "dotnet_interactive": {
     "language": "csharp"
    },
    "polyglot_notebook": {
     "kernelName": "csharp"
    },
    "vscode": {
     "languageId": "polyglot-notebook"
    }
   },
   "outputs": [
    {
     "name": "stdout",
     "output_type": "stream",
     "text": [
      "====== Explicit Casting ======\n",
      "10\n",
      "4\n",
      "3.5\n",
      "4\n",
      "5\n"
     ]
    }
   ],
   "source": [
    "int myInt = 10;\n",
    "double myDouble = 5.25;\n",
    "string myIntString = \"4\";\n",
    "string myDoubleString = \"3.5\";\n",
    "\n",
    "Console.WriteLine(\"====== Explicit Casting ======\"); \n",
    "Console.WriteLine(Convert.ToString(myInt));    // int vers string\n",
    "Console.WriteLine(Convert.ToInt32(myIntString));\n",
    "Console.WriteLine(Convert.ToDouble(myDoubleString)); // string ver double\n",
    "Console.WriteLine(Convert.ToInt32(Convert.ToDouble(myDoubleString)));  // string vers int\n",
    "Console.WriteLine(Convert.ToInt32(myDouble));  // convert double to int"
   ]
  }
 ],
 "metadata": {
  "kernelspec": {
   "display_name": ".NET (C#)",
   "language": "C#",
   "name": ".net-csharp"
  },
  "language_info": {
   "name": "python",
   "version": "3.10.11"
  },
  "polyglot_notebook": {
   "kernelInfo": {
    "defaultKernelName": "csharp",
    "items": [
     {
      "aliases": [],
      "name": "csharp"
     }
    ]
   }
  }
 },
 "nbformat": 4,
 "nbformat_minor": 2
}
