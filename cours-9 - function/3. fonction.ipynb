{
 "cells": [
  {
   "cell_type": "markdown",
   "metadata": {},
   "source": [
    "# Fonction\n",
    "Déclaraction et invocation de fonction"
   ]
  },
  {
   "cell_type": "code",
   "execution_count": 1,
   "metadata": {
    "dotnet_interactive": {
     "language": "csharp"
    },
    "polyglot_notebook": {
     "kernelName": "csharp"
    },
    "vscode": {
     "languageId": "polyglot-notebook"
    }
   },
   "outputs": [
    {
     "name": "stdout",
     "output_type": "stream",
     "text": [
      "176\r\n"
     ]
    }
   ],
   "source": [
    "double DifferenceDesCarrees(double nombre1, double nombre2){\n",
    "    double carre1 = nombre1 * nombre1;\n",
    "    double carre2 = nombre2 * nombre2;\n",
    "    return carre1 - carre2;\n",
    "}\n",
    "double resultat = DifferenceDesCarrees(15,7);\n",
    "Console.WriteLine(resultat);"
   ]
  },
  {
   "cell_type": "markdown",
   "metadata": {},
   "source": [
    "\n",
    " Abandonner un résultat (Discard)\n",
    "- Il est parfois utile de volontairement indiquer au code qu'on ne désire pas conserver la valeur de retour d'une fonction.\n",
    "- Cela permets de retirer des avertissements du compilateur (souligné en jaune).\n",
    "- Le caractère « _ » indique que la valeur de retour de la fonction ne nous intéresse pas."
   ]
  },
  {
   "cell_type": "code",
   "execution_count": 3,
   "metadata": {
    "dotnet_interactive": {
     "language": "csharp"
    },
    "polyglot_notebook": {
     "kernelName": "csharp"
    },
    "vscode": {
     "languageId": "polyglot-notebook"
    }
   },
   "outputs": [
    {
     "name": "stdout",
     "output_type": "stream",
     "text": [
      "42"
     ]
    }
   ],
   "source": [
    "int AfficherRetournerEntier(){\n",
    "    Console.WriteLine(42);\n",
    "    return 42;\n",
    "}\n",
    "\n",
    "_ = AfficherRetournerEntier();"
   ]
  },
  {
   "cell_type": "markdown",
   "metadata": {},
   "source": [
    "- Il est possible d'ajouter des paramètres aux fonctions. \n",
    "- Les paramètre peuvent être de type différent les uns des autres.\n",
    "- Mais il ne peut y avoir qu'un seule valeur de retour"
   ]
  },
  {
   "cell_type": "code",
   "execution_count": 3,
   "metadata": {
    "dotnet_interactive": {
     "language": "csharp"
    },
    "polyglot_notebook": {
     "kernelName": "csharp"
    },
    "vscode": {
     "languageId": "polyglot-notebook"
    }
   },
   "outputs": [],
   "source": [
    "void AfficherBonjour(){\n",
    "    Console.WriteLine(\"Bonjour\");\n",
    "}\n",
    "\n",
    "double Doubler(double nombre){\n",
    "    return 2 * nombre;\n",
    "}\n",
    "\n",
    "void AfficherInformations(string nom, int age, double salaire){\n",
    "    Console.WriteLine($\"Bonjour {nom}, vous avez {age} et vous gagnez {salaire}$\");\n",
    "}"
   ]
  },
  {
   "cell_type": "markdown",
   "metadata": {},
   "source": [
    "Appel de fonction avec des paramètres\n",
    "- Passage de valeur\n",
    "- Passage de variables\n",
    "- Passage du retour d'une autre fonction"
   ]
  },
  {
   "cell_type": "code",
   "execution_count": 5,
   "metadata": {
    "dotnet_interactive": {
     "language": "csharp"
    },
    "polyglot_notebook": {
     "kernelName": "csharp"
    },
    "vscode": {
     "languageId": "polyglot-notebook"
    }
   },
   "outputs": [
    {
     "name": "stdout",
     "output_type": "stream",
     "text": [
      "Double de 10 : 20\n",
      "84\n"
     ]
    }
   ],
   "source": [
    "double Doubler(double nombre){\n",
    "    return 2 * nombre;\n",
    "}\n",
    "const int NOMBRE = 10;\n",
    "Console.WriteLine($\"Double de {NOMBRE} : {Doubler(NOMBRE)}\");\n",
    "\n",
    "double DifferenceDesCarrees(double nombre1, double nombre2){\n",
    "    double carre1 = nombre1 * nombre1;\n",
    "    double carre2 = nombre2 * nombre2;\n",
    "    return carre1 - carre2;\n",
    "}\n",
    "double resultat = DifferenceDesCarrees(NOMBRE, Doubler(2));\n",
    "Console.WriteLine(resultat);"
   ]
  },
  {
   "cell_type": "markdown",
   "metadata": {},
   "source": [
    "Variables fournies comme paramètres\n",
    "\n",
    "- Lors qu'on utilise une variable pour envoyé un argument en paramètre, la valeur est copié dans la fonction. Ce n'est pas la même variable.\n",
    "- Les variables internes de la fonction peuvent avoir le même nom qu'une variable externe, à ce moment, ils ne représenteront pas le même espace mémoire.  Ce sont deux variables distinct, même si elles ont le même nom."
   ]
  },
  {
   "cell_type": "code",
   "execution_count": 6,
   "metadata": {
    "dotnet_interactive": {
     "language": "csharp"
    },
    "polyglot_notebook": {
     "kernelName": "csharp"
    },
    "vscode": {
     "languageId": "polyglot-notebook"
    }
   },
   "outputs": [
    {
     "name": "stdout",
     "output_type": "stream",
     "text": [
      "Valeur dans la fonction: 9\n",
      "Valeur retourné par la fonction: 9\n",
      "Valeur hors de la fonction: 4.5\n"
     ]
    }
   ],
   "source": [
    "double nombre = 4.5;\n",
    "\n",
    "double Doubler(double nombre){\n",
    "    nombre = 2 * nombre;\n",
    "    Console.WriteLine($\"Valeur dans la fonction: {nombre}\");\n",
    "    return nombre;\n",
    "}\n",
    "Console.WriteLine($\"Valeur retourné par la fonction: {Doubler(nombre)}\");\n",
    "Console.WriteLine($\"Valeur hors de la fonction: {nombre}\");\n"
   ]
  }
 ],
 "metadata": {
  "kernelspec": {
   "display_name": ".NET (C#)",
   "language": "C#",
   "name": ".net-csharp"
  },
  "language_info": {
   "name": "python"
  },
  "polyglot_notebook": {
   "kernelInfo": {
    "defaultKernelName": "csharp",
    "items": [
     {
      "aliases": [],
      "name": "csharp"
     }
    ]
   }
  }
 },
 "nbformat": 4,
 "nbformat_minor": 2
}
