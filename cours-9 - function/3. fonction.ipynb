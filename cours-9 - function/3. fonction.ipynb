{
 "cells": [
  {
   "cell_type": "markdown",
   "metadata": {},
   "source": [
    "Créer une fonction pour afficher le classement des joueurs d'échecs."
   ]
  },
  {
   "cell_type": "code",
   "execution_count": 1,
   "metadata": {
    "dotnet_interactive": {
     "language": "csharp"
    },
    "polyglot_notebook": {
     "kernelName": "csharp"
    },
    "vscode": {
     "languageId": "polyglot-notebook"
    }
   },
   "outputs": [
    {
     "name": "stdout",
     "output_type": "stream",
     "text": [
      "Magnus Carlson : Grand maître\n",
      "Hikaru Nakamura : Grand maître\n",
      "Kevin Bessette : Très bon joueur\n",
      "Olivier Fortin : Grand maître\n",
      "Mathieu Bouthillier : Bon joueur\n"
     ]
    }
   ],
   "source": [
    "string ObtenirDescriptionClassement(int elo) {\n",
    "    if (elo > 2500) {\n",
    "        return \"Grand maître\";\n",
    "    }\n",
    "    if (elo > 2200) {\n",
    "        return \"Maître national\";\n",
    "    }\n",
    "    if (elo > 2000) {\n",
    "        return \"Niveau national\";\n",
    "    }\n",
    "    if (elo > 1200) {\n",
    "        return \"Très bon joueur\";\n",
    "    }\n",
    "    if (elo > 600) {\n",
    "        return \"Bon joueur\";\n",
    "    }\n",
    "    return \"Débutant\";\n",
    "}\n",
    "Console.WriteLine(\"Magnus Carlson : \" + ObtenirDescriptionClassement(2829)); //Grand maître\n",
    "Console.WriteLine(\"Hikaru Nakamura : \" + ObtenirDescriptionClassement(2787)); //Grand maître\n",
    "Console.WriteLine(\"Kevin Bessette : \" + ObtenirDescriptionClassement(1312)); //Très bon joueur \n",
    "Console.WriteLine(\"Olivier Fortin : \" + ObtenirDescriptionClassement(9999)); //Grand maître\n",
    "Console.WriteLine(\"Mathieu Bouthillier : \" + ObtenirDescriptionClassement(800)); //Bon joueur"
   ]
  },
  {
   "cell_type": "markdown",
   "metadata": {},
   "source": [
    "- Créer une méthode pour afficher le résultat d'un code de sécurité\n",
    "- On remarque qu'il est possible d'utiliser des structures conditionnelles dans une méthode."
   ]
  },
  {
   "cell_type": "code",
   "execution_count": null,
   "metadata": {
    "vscode": {
     "languageId": "polyglot-notebook"
    }
   },
   "outputs": [],
   "source": [
    "string ObtenirLibellé(char code)\n",
    "{\n",
    "    if(code == 'D') return \"Danger\";\n",
    "    if(code == 'A') return \"Avertissement\";\n",
    "    if(code == 'P') return \"Problème\";\n",
    "    else return \"code non valide.\";\n",
    "}\n",
    "\n",
    "Console.WriteLine(\"Code A : \" + ObtenirLibellé('A')); //Code A : Avertissement\n",
    "Console.WriteLine( \"Code P : \" + ObtenirLibellé('D')); //Code P : Problème\n",
    "Console.WriteLine( \"Code D : \" + ObtenirLibellé('P')); //Code D : Danger\n",
    "Console.WriteLine( \"Code W : \" + ObtenirLibellé('W')); //Code W : code non valide"
   ]
  },
  {
   "cell_type": "markdown",
   "metadata": {},
   "source": [
    "- Créer une méthode qui reçoit en paramètre 1 entier et 1 booléen. \n",
    "    - Si le booléen est vrai, on retourne l'entier incrémenté par 1.\n",
    "    - Si le booléen est faux, on retourne 0"
   ]
  },
  {
   "cell_type": "code",
   "execution_count": null,
   "metadata": {
    "vscode": {
     "languageId": "polyglot-notebook"
    }
   },
   "outputs": [],
   "source": [
    "int Compteur(int nb, bool actif)\n",
    "{\n",
    "    if(actif)\n",
    "    {\n",
    "        return nb + 1;\n",
    "    }\n",
    "    else \n",
    "    {\n",
    "        return 0;\n",
    "    }\n",
    "}\n",
    "\n",
    "int compteur = 0;\n",
    "compteur = Compteur(compteur, true); //Compteur = 1\n",
    "compteur = Compteur(compteur, true); //Compteur = 2\n",
    "compteur = Compteur(compteur, false); //Compteur = 0\n",
    "compteur = Compteur(compteur, true); //Compteur = 1"
   ]
  },
  {
   "cell_type": "markdown",
   "metadata": {},
   "source": [
    "\n",
    "# Abandonner un résultat (Discard)\n",
    "\n",
    "- Il est parfois utile de volontairement indiquer au code qu'on ne désire pas conserver la valeur de retour d'une méthode.\n",
    "- Permets de retirer des avertissements du compilateur.\n",
    "- Le caractère « _ » indique que la valeur de retour de la méthode ne nous intéresse pas."
   ]
  },
  {
   "cell_type": "code",
   "execution_count": null,
   "metadata": {
    "vscode": {
     "languageId": "polyglot-notebook"
    }
   },
   "outputs": [],
   "source": [
    "_ = RetourEntier();"
   ]
  },
  {
   "cell_type": "markdown",
   "metadata": {},
   "source": [
    "- Il est possible d'ajouter des paramètres aux méthodes. "
   ]
  },
  {
   "cell_type": "code",
   "execution_count": null,
   "metadata": {
    "vscode": {
     "languageId": "polyglot-notebook"
    }
   },
   "outputs": [],
   "source": [
    "double Doubler(double nombre)\n",
    "{\n",
    "    return 2 * nombre;\n",
    "}\n",
    "\n",
    "double DifferenceDesCarrees(double nb1, double nb2)\n",
    "{ \n",
    "    return (nb1 * nb1) - (nb2 * nb2);\n",
    "}\n",
    "\n",
    "void AfficherInformations(string nom, int age, double salaire)\n",
    "{\n",
    "    Console.WriteLine($\"Bonjour {nom}, vous avez {age} ans et vous gagnez {salaire}$\");\n",
    "}"
   ]
  },
  {
   "cell_type": "markdown",
   "metadata": {},
   "source": [
    "# Appel de méthodes avec des paramètres (1/2)\n",
    "\n",
    "- Passage de valeur\n",
    "- Passage de variables\n",
    "- Passage du retour d'une autre méthode"
   ]
  },
  {
   "cell_type": "code",
   "execution_count": null,
   "metadata": {
    "vscode": {
     "languageId": "polyglot-notebook"
    }
   },
   "outputs": [],
   "source": [
    "Console.WriteLine(\"Double de 10 : \" + Doubler(10));\n",
    "\n",
    "//Passage de variables\n",
    "double nb1 = 10.5;\n",
    "double nb2 = 5.5;\n",
    "double resultat = DifferenceDesCarrees(nb1, nb2);"
   ]
  },
  {
   "cell_type": "markdown",
   "metadata": {},
   "source": [
    "# Variables fournies comme paramètres\n",
    "\n",
    "- La méthode « CalculerCoût » est composée de 3 paramètres\n",
    "- Lors de l'appel de la méthode \"CalculerCoût\", le contenu des variables est copié dans l'espace mémoire des paramètres.\n",
    "- C'est un passage par valeur."
   ]
  },
  {
   "cell_type": "code",
   "execution_count": null,
   "metadata": {
    "vscode": {
     "languageId": "polyglot-notebook"
    }
   },
   "outputs": [],
   "source": [
    "double CalculerCout(int nbHeures, double tauxBase, double fraisFixe)\n",
    "{\n",
    "    nbHeures++;\n",
    "    return nbHeures * tauxBase * fraisFixe;\n",
    "}\n",
    "\n",
    "int nbHeuresTravaillées = 40;\n",
    "double tauxBaseParHeure = 40;\n",
    "double fraisFixeTotal = 100;\n",
    "\n",
    "double cout = CalculerCout(nbHeuresTravaillées, tauxBaseParHeure, fraisFixeTotal);"
   ]
  }
 ],
 "metadata": {
  "kernelspec": {
   "display_name": ".NET (C#)",
   "language": "C#",
   "name": ".net-csharp"
  },
  "language_info": {
   "name": "python"
  },
  "polyglot_notebook": {
   "kernelInfo": {
    "defaultKernelName": "csharp",
    "items": [
     {
      "aliases": [],
      "name": "csharp"
     }
    ]
   }
  }
 },
 "nbformat": 4,
 "nbformat_minor": 2
}
