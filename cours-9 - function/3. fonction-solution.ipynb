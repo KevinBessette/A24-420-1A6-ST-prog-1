{
 "cells": [
  {
   "cell_type": "markdown",
   "metadata": {},
   "source": [
    "# Fonction\n",
    "Déclaraction et invocation de fonction"
   ]
  },
  {
   "cell_type": "code",
   "execution_count": 9,
   "metadata": {
    "dotnet_interactive": {
     "language": "csharp"
    },
    "polyglot_notebook": {
     "kernelName": "csharp"
    },
    "vscode": {
     "languageId": "polyglot-notebook"
    }
   },
   "outputs": [
    {
     "name": "stdout",
     "output_type": "stream",
     "text": [
      "176\r\n"
     ]
    }
   ],
   "source": [
    "double DifferenceDesCarrees(double nb1, double nb2)\n",
    "{ \n",
    "    double carre1 = nb1 * nb1;\n",
    "    double carre2 = nb2 * nb2;\n",
    "    return carre1 - carre2;\n",
    "}\n",
    "double resultat = DifferenceDesCarrees(15,7);\n",
    "Console.WriteLine(resultat);"
   ]
  },
  {
   "cell_type": "markdown",
   "metadata": {},
   "source": [
    "\n",
    " Abandonner un résultat (Discard)\n",
    "- Il est parfois utile de volontairement indiquer au code qu'on ne désire pas conserver la valeur de retour d'une fonction.\n",
    "- Cela permets de retirer des avertissements du compilateur (souligné en jaune).\n",
    "- Le caractère « _ » indique que la valeur de retour de la fonction ne nous intéresse pas."
   ]
  },
  {
   "cell_type": "code",
   "execution_count": null,
   "metadata": {
    "dotnet_interactive": {
     "language": "csharp"
    },
    "polyglot_notebook": {
     "kernelName": "csharp"
    },
    "vscode": {
     "languageId": "polyglot-notebook"
    }
   },
   "outputs": [],
   "source": [
    "int RetourEntier(){\n",
    "    return 42;\n",
    "}\n",
    "_ = RetourEntier();"
   ]
  },
  {
   "cell_type": "markdown",
   "metadata": {},
   "source": [
    "- Il est possible d'ajouter des paramètres aux fonctions. \n",
    "- Les paramètre peuvent être de type différent les uns des autres.\n",
    "- Mais il ne peut y avoir qu'un seule valeur de retour"
   ]
  },
  {
   "cell_type": "code",
   "execution_count": 3,
   "metadata": {
    "dotnet_interactive": {
     "language": "csharp"
    },
    "polyglot_notebook": {
     "kernelName": "csharp"
    },
    "vscode": {
     "languageId": "polyglot-notebook"
    }
   },
   "outputs": [],
   "source": [
    "double Doubler(double nombre)\n",
    "{\n",
    "    return 2 * nombre;\n",
    "}\n",
    "\n",
    "double DifferenceDesCarrees(double nb1, double nb2)\n",
    "{ \n",
    "    return (nb1 * nb1) - (nb2 * nb2);\n",
    "}\n",
    "\n",
    "void AfficherInformations(string nom, int age, double salaire)\n",
    "{\n",
    "    Console.WriteLine($\"Bonjour {nom}, vous avez {age} ans et vous gagnez {salaire}$\");\n",
    "}"
   ]
  },
  {
   "cell_type": "markdown",
   "metadata": {},
   "source": [
    "Appel de fonction avec des paramètres\n",
    "- Passage de valeur\n",
    "- Passage de variables\n",
    "- Passage du retour d'une autre fonction"
   ]
  },
  {
   "cell_type": "code",
   "execution_count": 2,
   "metadata": {
    "dotnet_interactive": {
     "language": "csharp"
    },
    "polyglot_notebook": {
     "kernelName": "csharp"
    },
    "vscode": {
     "languageId": "polyglot-notebook"
    }
   },
   "outputs": [
    {
     "name": "stdout",
     "output_type": "stream",
     "text": [
      "Double de 10 : 20\n",
      "80\n",
      "369.75\n"
     ]
    }
   ],
   "source": [
    "double Doubler(double nombre)\n",
    "{\n",
    "    return 2 * nombre;\n",
    "}\n",
    "Console.WriteLine(\"Double de 10 : \" + Doubler(10));\n",
    "\n",
    "double DifferenceDesCarrees(double nb1, double nb2)\n",
    "{ \n",
    "    return (nb1 * nb1) - (nb2 * nb2);\n",
    "}\n",
    "double nb1 = 10.5;\n",
    "double nb2 = 5.5;\n",
    "double resultat;\n",
    "\n",
    "resultat = DifferenceDesCarrees(nb1, nb2);\n",
    "Console.WriteLine(resultat);\n",
    "\n",
    "resultat = DifferenceDesCarrees(Doubler(10), nb2);\n",
    "Console.WriteLine(resultat);"
   ]
  },
  {
   "cell_type": "markdown",
   "metadata": {},
   "source": [
    "Variables fournies comme paramètres\n",
    "\n",
    "- Lors qu'on utilise une variable pour envoyé un argument en paramètre, la valeur est copié dans la fonction. Ce n'est pas la même variable.\n",
    "- Les variables internes de la fonction peuvent avoir le même nom qu'une variable externe, à ce moment, ils ne représenteront pas le même espace mémoire.  Ce sont deux variables distinct, même si elles ont le même nom."
   ]
  },
  {
   "cell_type": "code",
   "execution_count": 7,
   "metadata": {
    "dotnet_interactive": {
     "language": "csharp"
    },
    "polyglot_notebook": {
     "kernelName": "csharp"
    },
    "vscode": {
     "languageId": "polyglot-notebook"
    }
   },
   "outputs": [
    {
     "name": "stdout",
     "output_type": "stream",
     "text": [
      "valeur dans la fonction: 9\n",
      "valeur retourné par la fonction: 9\n",
      "valeur hors la fonction: 4.5\n"
     ]
    }
   ],
   "source": [
    "double nombre = 4.5;\n",
    "\n",
    "double Doubler(double nombre)\n",
    "{\n",
    "    nombre = 2 * nombre;\n",
    "    Console.WriteLine($\"valeur dans la fonction: {nombre}\");\n",
    "    return nombre;\n",
    "}\n",
    "\n",
    "Console.WriteLine($\"valeur retourné par la fonction: {Doubler(nombre)}\");\n",
    "Console.WriteLine($\"valeur hors la fonction: {nombre}\");"
   ]
  },
  {
   "cell_type": "markdown",
   "metadata": {},
   "source": [
    "# Exemple d'application du principe de responsabilité unique\n",
    "Une tâche par fonction : Assurez-vous que chaque fonction fait une seule chose clairement définie."
   ]
  },
  {
   "cell_type": "code",
   "execution_count": null,
   "metadata": {
    "vscode": {
     "languageId": "polyglot-notebook"
    }
   },
   "outputs": [],
   "source": []
  },
  {
   "cell_type": "markdown",
   "metadata": {},
   "source": [
    "Nommez précisément : Le nom de la fonction doit refléter précisément sa responsabilité unique."
   ]
  },
  {
   "cell_type": "code",
   "execution_count": null,
   "metadata": {
    "vscode": {
     "languageId": "polyglot-notebook"
    }
   },
   "outputs": [],
   "source": []
  },
  {
   "cell_type": "markdown",
   "metadata": {},
   "source": [
    "Divisez les tâches complexes : Si une fonction devient trop longue ou gère plusieurs responsabilités, divisez-la en plusieurs fonctions plus petites."
   ]
  },
  {
   "cell_type": "code",
   "execution_count": null,
   "metadata": {
    "vscode": {
     "languageId": "polyglot-notebook"
    }
   },
   "outputs": [],
   "source": []
  },
  {
   "cell_type": "markdown",
   "metadata": {},
   "source": [
    "Limitez les effets de bord : Une fonction doit éviter d'affecter l'état global ou de modifier des variables en dehors de son scope."
   ]
  },
  {
   "cell_type": "code",
   "execution_count": null,
   "metadata": {
    "vscode": {
     "languageId": "polyglot-notebook"
    }
   },
   "outputs": [],
   "source": []
  },
  {
   "cell_type": "markdown",
   "metadata": {},
   "source": [
    "Gardez les paramètres simples : Utilisez un nombre réduit de paramètres et évitez de passer des structures de données complexes si la tâche ne le justifie pas."
   ]
  },
  {
   "cell_type": "code",
   "execution_count": null,
   "metadata": {
    "vscode": {
     "languageId": "polyglot-notebook"
    }
   },
   "outputs": [],
   "source": []
  }
 ],
 "metadata": {
  "kernelspec": {
   "display_name": ".NET (C#)",
   "language": "C#",
   "name": ".net-csharp"
  },
  "language_info": {
   "name": "python"
  },
  "polyglot_notebook": {
   "kernelInfo": {
    "defaultKernelName": "csharp",
    "items": [
     {
      "aliases": [],
      "name": "csharp"
     }
    ]
   }
  }
 },
 "nbformat": 4,
 "nbformat_minor": 2
}
