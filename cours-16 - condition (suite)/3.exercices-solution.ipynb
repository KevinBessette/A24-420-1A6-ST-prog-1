{
 "cells": [
  {
   "cell_type": "markdown",
   "id": "10061a1f",
   "metadata": {},
   "source": [
    "# Exercices C# : Switch/Case et Opérateur Ternaire"
   ]
  },
  {
   "cell_type": "markdown",
   "id": "ab83322c",
   "metadata": {},
   "source": [
    "## Exercice 1 : Switch/Case simple\n",
    "Écrivez la fonction NomDuJour qui prend en paramète un numéro de 1 à 7 correspondant au jour de la semaine et retourne le nom du jour de la semaine sous forme de chaîne.\n",
    "\n",
    "Si le numéro envoyé en argument n'est pas entre 1 et 7, retourner la chaine \"valeur incorrecte\"\n",
    "\n",
    "*Vous devez obligatoirement utiliser l'instruction `switch/case`.*\n"
   ]
  },
  {
   "cell_type": "code",
   "execution_count": 1,
   "id": "7169e010",
   "metadata": {
    "dotnet_interactive": {
     "language": "csharp"
    },
    "polyglot_notebook": {
     "kernelName": "csharp"
    },
    "vscode": {
     "languageId": "polyglot-notebook"
    }
   },
   "outputs": [
    {
     "name": "stdout",
     "output_type": "stream",
     "text": [
      "Lundi\n",
      "Mercredi\n",
      "Dimanche\n"
     ]
    }
   ],
   "source": [
    "string NomDuJour(int jour){\n",
    "    switch (jour){\n",
    "        case 1: return \"Lundi\";\n",
    "        case 2: return \"Mardi\";\n",
    "        case 3: return \"Mercredi\";\n",
    "        case 4: return \"Jeudi\";\n",
    "        case 5: return \"Vendredi\";\n",
    "        case 6: return \"Samedi\";\n",
    "        case 7: return \"Dimanche\";\n",
    "        default: return \"Jour inconnu\";\n",
    "    }\n",
    "}\n",
    "\n",
    "Console.WriteLine(NomDuJour(1)); // Lundi\n",
    "Console.WriteLine(NomDuJour(3)); // Mercredi\n",
    "Console.WriteLine(NomDuJour(7)); // Dimanche"
   ]
  },
  {
   "cell_type": "markdown",
   "id": "def4be49",
   "metadata": {},
   "source": [
    "## Exercice 2 : Switch/Case avec case multiple\n",
    "Écrivez la fonction SaisonDuMois qui prend en paramètre un entier entre 1 et 12 (représentant un mois de l'année) et retourne la saison correspondante : hiver, printemps, été ou automne.\n",
    "\n",
    "Pour des raisons de simplicité, nous utiliserons uniquement les mois. \n",
    "- Hiver = Décembre-Janvier-Février \n",
    "- Printemps = Mars-Avril-Mai\n",
    "- Été = Juin-Juillet-Aout\n",
    "- Automne = Septembre-Octobre-Novembre\n",
    "\n",
    "Si le numéro envoyé en argument n'est pas entre 1 et 12, retourner la chaine \"valeur incorrecte\"\n",
    "\n",
    "*Vous devez obligatoirement utiliser l'instruction `switch/case`.*"
   ]
  },
  {
   "cell_type": "code",
   "execution_count": 3,
   "id": "a63aed98",
   "metadata": {
    "dotnet_interactive": {
     "language": "csharp"
    },
    "polyglot_notebook": {
     "kernelName": "csharp"
    },
    "vscode": {
     "languageId": "polyglot-notebook"
    }
   },
   "outputs": [
    {
     "name": "stdout",
     "output_type": "stream",
     "text": [
      "Hiver\n",
      "Printemps\n",
      "Été\n"
     ]
    }
   ],
   "source": [
    "string SaisonDuMois(int mois){\n",
    "    switch (mois){\n",
    "        case 1: case 2: case 12: return \"Hiver\";\n",
    "        case 3: case 4: case 5: return \"Printemps\";\n",
    "        case 6: case 7: case 8: return \"Été\";\n",
    "        case 9: case 10: case 11: return \"Automne\";\n",
    "        default: return \"Mois inconnu\";\n",
    "    }\n",
    "}\n",
    "\n",
    "Console.WriteLine(SaisonDuMois(1)); // Hiver\n",
    "Console.WriteLine(SaisonDuMois(5)); // Printemps\n",
    "Console.WriteLine(SaisonDuMois(8)); // Été"
   ]
  },
  {
   "cell_type": "markdown",
   "id": "09472ecd",
   "metadata": {},
   "source": [
    "## Exercice 3 : Comparaison avec la moyenne saisonnière (fonction et constantes)\n",
    "Écrivez une fonction VerifierTemperature qui prend en paramètre une saison (numéro de 1 à 4) et une température.  En fonction de la saison et de la moyenne saisonnière, la fonction affiche dans la console une chaîne indiquant si la température est en dessous, au-dessus ou égale à la moyenne.\n",
    "\n",
    "*N'hésitez pas créer une deuxième fonction pour ne pas avoir trop de redondance dans votre code.*"
   ]
  },
  {
   "cell_type": "code",
   "execution_count": 4,
   "id": "93397a00",
   "metadata": {
    "dotnet_interactive": {
     "language": "csharp"
    },
    "polyglot_notebook": {
     "kernelName": "csharp"
    },
    "vscode": {
     "languageId": "polyglot-notebook"
    }
   },
   "outputs": [
    {
     "name": "stdout",
     "output_type": "stream",
     "text": [
      "Il fait plus froid que la moyenne.\n",
      "Il fait plus chaud que la moyenne.\n",
      "La température est exactement dans la moyenne.\n",
      "Il fait plus froid que la moyenne.\n",
      "Saison invalide.\n"
     ]
    }
   ],
   "source": [
    "const int MOYENNE_HIVER = 0;\n",
    "const int MOYENNE_PRINTEMPS = 15;\n",
    "const int MOYENNE_ETE = 25;\n",
    "const int MOYENNE_AUTOMNE = 12;\n",
    "\n",
    "void VerifierTemperature(int saison, int temperature){\n",
    "    switch (saison){\n",
    "        case 1:\n",
    "            ComparerAvecMoyenne(temperature, MOYENNE_HIVER);\n",
    "            break;\n",
    "        case 2:\n",
    "            ComparerAvecMoyenne(temperature, MOYENNE_PRINTEMPS);\n",
    "            break;\n",
    "        case 3:\n",
    "            ComparerAvecMoyenne(temperature, MOYENNE_ETE);\n",
    "            break;\n",
    "        case 4:\n",
    "            ComparerAvecMoyenne(temperature, MOYENNE_AUTOMNE);\n",
    "            break;\n",
    "        default:\n",
    "            Console.WriteLine(\"Saison invalide.\");\n",
    "            break;\n",
    "    }\n",
    "}\n",
    "\n",
    "void ComparerAvecMoyenne(int temperature, int moyenne){\n",
    "    if (temperature < moyenne) {\n",
    "        Console.WriteLine($\"Il fait plus froid que la moyenne.\");\n",
    "    }\n",
    "    else if (temperature == moyenne) {\n",
    "        Console.WriteLine($\"La température est exactement dans la moyenne.\");\n",
    "    }\n",
    "    else {\n",
    "        Console.WriteLine($\"Il fait plus chaud que la moyenne.\");\n",
    "    }\n",
    "}\n",
    "\n",
    "VerifierTemperature(1, -5); // Il fait plus froid que la moyenne.\n",
    "VerifierTemperature(2, 20); // Il fait plus chaud que la moyenne.\n",
    "VerifierTemperature(3, 25); // La température est exactement dans la moyenne.\n",
    "VerifierTemperature(4, 10); // Il fait plus froid que la moyenne.\n",
    "VerifierTemperature(5, 10); // Saison invalide."
   ]
  },
  {
   "cell_type": "markdown",
   "id": "c8cd0bf0",
   "metadata": {},
   "source": [
    "## Exercice 4 : Opérateur ternaire\n",
    "Écrivez une fonction qui prend en paramètre un nombre entier et retourne une chaine indiquant s'il est pair ou impair.\n",
    "\n",
    "*Vous devez obligatoirement utiliser l'opérateur ternaire.*\n"
   ]
  },
  {
   "cell_type": "code",
   "execution_count": 6,
   "id": "70520bbe",
   "metadata": {
    "dotnet_interactive": {
     "language": "csharp"
    },
    "polyglot_notebook": {
     "kernelName": "csharp"
    },
    "vscode": {
     "languageId": "polyglot-notebook"
    }
   },
   "outputs": [
    {
     "name": "stdout",
     "output_type": "stream",
     "text": [
      "Paire\n",
      "Impaire\n",
      "Paire\n",
      "Paire\n"
     ]
    }
   ],
   "source": [
    "string ValeurPaireOuImpaire(int valeur){\n",
    "    return valeur % 2 == 0 ? \"Paire\" : \"Impaire\";\n",
    "}\n",
    "\n",
    "Console.WriteLine(ValeurPaireOuImpaire(2)); // Paire\n",
    "Console.WriteLine(ValeurPaireOuImpaire(3)); // Impaire\n",
    "Console.WriteLine(ValeurPaireOuImpaire(0)); // Paire\n",
    "Console.WriteLine(ValeurPaireOuImpaire(-10)); // Paire"
   ]
  },
  {
   "cell_type": "markdown",
   "id": "478c8e59",
   "metadata": {},
   "source": [
    "## Exercice 5 : Opérateur ternaire\n",
    "Écrivez une fonction qui prend en paramètre l'âge et retourne un message indiquant s'il est majeur ou mineur.\n",
    "\n",
    "*Vous devez obligatoirement utiliser l'opérateur ternaire.*"
   ]
  },
  {
   "cell_type": "code",
   "execution_count": 7,
   "id": "de18c1d6",
   "metadata": {
    "dotnet_interactive": {
     "language": "csharp"
    },
    "polyglot_notebook": {
     "kernelName": "csharp"
    },
    "vscode": {
     "languageId": "polyglot-notebook"
    }
   },
   "outputs": [
    {
     "name": "stdout",
     "output_type": "stream",
     "text": [
      "Majeur\n",
      "Mineur\n",
      "Majeur\n"
     ]
    }
   ],
   "source": [
    "string AgeMajeurOuMineur(int age){\n",
    "    return age >= 18 ? \"Majeur\" : \"Mineur\";\n",
    "}\n",
    "\n",
    "Console.WriteLine(AgeMajeurOuMineur(20)); // Majeur\n",
    "Console.WriteLine(AgeMajeurOuMineur(15)); // Mineur\n",
    "Console.WriteLine(AgeMajeurOuMineur(18)); // Majeur"
   ]
  },
  {
   "cell_type": "markdown",
   "id": "8ed42e17",
   "metadata": {},
   "source": [
    "## Exercice 6 : Opérateur ternaire pour comparer deux nombres\n",
    "Écrivez une fonction qui prend en paramètre deux nombres entiers et affiche le plus grand des deux en utilisant l'opérateur ternaire."
   ]
  },
  {
   "cell_type": "code",
   "execution_count": 8,
   "id": "7ddc24e8",
   "metadata": {
    "dotnet_interactive": {
     "language": "csharp"
    },
    "polyglot_notebook": {
     "kernelName": "csharp"
    },
    "vscode": {
     "languageId": "polyglot-notebook"
    }
   },
   "outputs": [
    {
     "name": "stdout",
     "output_type": "stream",
     "text": [
      "Le maximum entre 5 et 10 est 10.\n",
      "Le maximum entre 20 et 5 est 20.\n",
      "Le maximum entre 5 et 5 est 5.\n"
     ]
    }
   ],
   "source": [
    "void AfficherMax(int a, int b){\n",
    "    int max = a > b ? a : b;\n",
    "    Console.WriteLine($\"Le maximum entre {a} et {b} est {max}.\");\n",
    "}\n",
    "\n",
    "AfficherMax(5, 10); // Le maximum entre 5 et 10 est 10.\n",
    "AfficherMax(20, 5); // Le maximum entre 20 et 5 est 20.\n",
    "AfficherMax(5, 5); // Le maximum entre 5 et 5 est 5."
   ]
  }
 ],
 "metadata": {
  "kernelspec": {
   "display_name": ".NET (C#)",
   "language": "C#",
   "name": ".net-csharp"
  },
  "language_info": {
   "name": "python"
  },
  "polyglot_notebook": {
   "kernelInfo": {
    "defaultKernelName": "csharp",
    "items": [
     {
      "aliases": [],
      "name": "csharp"
     }
    ]
   }
  }
 },
 "nbformat": 4,
 "nbformat_minor": 5
}
