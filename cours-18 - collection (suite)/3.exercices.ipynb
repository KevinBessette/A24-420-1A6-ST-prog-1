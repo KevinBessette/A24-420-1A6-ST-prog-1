{
 "cells": [
  {
   "cell_type": "markdown",
   "id": "870d5f9e",
   "metadata": {},
   "source": [
    "# Exercices : Tri et Filtre en C#\n",
    "1. Comprendre le tri en utilisant `Sort()`.\n",
    "2. Utiliser des expressions lambda pour les tris personnalisés (ex: en fonction de la valeur absolue ou en ordre décroissant).\n",
    "3. Filtrer des éléments en utilisant `FindAll()`.\n",
    "\n",
    "Chaque exercice comprend des instructions spécifiques. Essayez de résoudre chaque exercice dans un bloc de code séparé.\n"
   ]
  },
  {
   "cell_type": "code",
   "execution_count": null,
   "id": "427d25ff",
   "metadata": {
    "dotnet_interactive": {
     "language": "csharp"
    },
    "polyglot_notebook": {
     "kernelName": "csharp"
    },
    "vscode": {
     "languageId": "polyglot-notebook"
    }
   },
   "outputs": [
    {
     "name": "stdout",
     "output_type": "stream",
     "text": [
      "Résultat du tri croissant : -10, -3, -1, 4, 5, 7\r\n"
     ]
    }
   ],
   "source": [
    "// Exercice 1 : Tri d'un tableau d'entiers\n",
    "// Trier les nombres dans l'ordre croissant.\n",
    "\n",
    "int[] nombres = [ -3, 7, -1, 5, -10, 4 ];\n",
    "\n",
    "\n",
    "\n",
    "Console.WriteLine(\"Résultat du tri croissant : \" + string.Join(\", \", nombres));\n"
   ]
  },
  {
   "cell_type": "code",
   "execution_count": null,
   "id": "655f5155",
   "metadata": {
    "dotnet_interactive": {
     "language": "csharp"
    },
    "polyglot_notebook": {
     "kernelName": "csharp"
    },
    "vscode": {
     "languageId": "polyglot-notebook"
    }
   },
   "outputs": [
    {
     "name": "stdout",
     "output_type": "stream",
     "text": [
      "Tri par valeur absolue : -10, 7, 5, 4, -3, -1\r\n"
     ]
    }
   ],
   "source": [
    "// Exercice 2 : Tri personnalisé avec valeur absolue\n",
    "// Triez le tableau d'entiers de manière **décroissante** en fonction de la valeur absolue des nombres.\n",
    "\n",
    "int[] nombres = [ -3, 7, -1, 5, -10, 4 ];\n",
    "\n",
    "\n",
    "Console.WriteLine(\"Tri par valeur absolue : \" + string.Join(\", \", nombres));\n"
   ]
  },
  {
   "cell_type": "code",
   "execution_count": null,
   "id": "fd4f6cea",
   "metadata": {
    "dotnet_interactive": {
     "language": "csharp"
    },
    "polyglot_notebook": {
     "kernelName": "csharp"
    },
    "vscode": {
     "languageId": "polyglot-notebook"
    }
   },
   "outputs": [
    {
     "name": "stdout",
     "output_type": "stream",
     "text": [
      "Nombres pairs : -10, 4\r\n"
     ]
    }
   ],
   "source": [
    "// Exercice 3 : Filtre avec FindAll (Nombres pairs)\n",
    "// Filtrer les nombres et afficher uniquement les nombres pairs.\n",
    "\n",
    "int[] nombres = [ -3, 7, -1, 5, -10, 4 ];\n",
    "int[] nombresPairs;\n",
    "\n",
    "Console.WriteLine(\"Nombres pairs : \" + string.Join(\", \", nombresPairs));\n"
   ]
  },
  {
   "cell_type": "code",
   "execution_count": null,
   "id": "0a494bf1",
   "metadata": {
    "dotnet_interactive": {
     "language": "csharp"
    },
    "polyglot_notebook": {
     "kernelName": "csharp"
    },
    "vscode": {
     "languageId": "polyglot-notebook"
    }
   },
   "outputs": [
    {
     "name": "stdout",
     "output_type": "stream",
     "text": [
      "Nombres > 3 : 7, 5, -10, 4\r\n"
     ]
    }
   ],
   "source": [
    "// Exercice 4 : Filtrer une liste en fonction de la valeur\n",
    "// Filtrer la liste pour trouver les éléments supérieurs à 3 ou inférieur à -3.\n",
    "\n",
    "List<int> nombres = [ -3, 7, -1, 5, -10, 4 ];\n",
    "List<int> nombresFiltre;\n",
    "\n",
    "Console.WriteLine(\"Nombres > 3 : \" + string.Join(\", \", nombresFiltre));\n"
   ]
  },
  {
   "cell_type": "code",
   "execution_count": 5,
   "id": "535bcd14",
   "metadata": {
    "dotnet_interactive": {
     "language": "csharp"
    },
    "polyglot_notebook": {
     "kernelName": "csharp"
    },
    "vscode": {
     "languageId": "polyglot-notebook"
    }
   },
   "outputs": [
    {
     "name": "stdout",
     "output_type": "stream",
     "text": [
      "Liste triée en ordre décroissant : 7, 5, 4, -1, -3, -10\r\n"
     ]
    }
   ],
   "source": [
    "// Exercice 5 : Tri d'une liste en ordre décroissant\n",
    "// Utilisez une expression lambda pour trier la liste en ordre décroissant.\n",
    "\n",
    "List<int> nombres = [ -3, 7, -1, 5, -10, 4 ];\n",
    "\n",
    "// TODO\n",
    "\n",
    "Console.WriteLine(\"Liste triée en ordre décroissant : \" + string.Join(\", \", nombres));\n"
   ]
  },
  {
   "cell_type": "code",
   "execution_count": 6,
   "id": "9a3db8e2",
   "metadata": {
    "dotnet_interactive": {
     "language": "csharp"
    },
    "polyglot_notebook": {
     "kernelName": "csharp"
    },
    "vscode": {
     "languageId": "polyglot-notebook"
    }
   },
   "outputs": [
    {
     "name": "stdout",
     "output_type": "stream",
     "text": [
      "Nombres positifs : 7, 5, 4\r\n"
     ]
    }
   ],
   "source": [
    "// Exercice 6 : Filtrer les nombres positifs\n",
    "// Utilisez List.FindAll() pour extraire les nombres positifs dans une nouvelle liste.\n",
    "\n",
    "List<int> nombres = [-3, 7, -1, 5, -10, 4 ];\n",
    "List<int> positifs;\n",
    "\n",
    "// TODO\n",
    "\n",
    "Console.WriteLine(\"Nombres positifs : \" + string.Join(\", \", positifs));\n"
   ]
  }
 ],
 "metadata": {
  "kernelspec": {
   "display_name": ".NET (C#)",
   "language": "C#",
   "name": ".net-csharp"
  },
  "language_info": {
   "name": "python"
  },
  "polyglot_notebook": {
   "kernelInfo": {
    "defaultKernelName": "csharp",
    "items": [
     {
      "aliases": [],
      "name": "csharp"
     }
    ]
   }
  }
 },
 "nbformat": 4,
 "nbformat_minor": 5
}
