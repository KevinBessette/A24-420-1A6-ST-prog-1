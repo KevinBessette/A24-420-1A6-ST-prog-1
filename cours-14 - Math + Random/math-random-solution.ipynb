{
 "cells": [
  {
   "cell_type": "markdown",
   "metadata": {},
   "source": [
    "# Utiliser la Classe Math et programmer les fonctions demandées."
   ]
  },
  {
   "cell_type": "markdown",
   "metadata": {},
   "source": [
    "Écrire une fonction `Pytagore` qui calcule l'hypoténuse d'un triangle rectangle. La fonction doit prendre deux arguments, `a` et `b`, qui représentent les longueurs des deux côtés perpendiculaires du triangle. La fonction doit retourner la longueur de l'hypoténuse.\n",
    "\n",
    "*Formule de pytagore = a^2 + b^2 = c^2*\n"
   ]
  },
  {
   "cell_type": "code",
   "execution_count": 2,
   "metadata": {
    "dotnet_interactive": {
     "language": "csharp"
    },
    "polyglot_notebook": {
     "kernelName": "csharp"
    },
    "vscode": {
     "languageId": "polyglot-notebook"
    }
   },
   "outputs": [
    {
     "name": "stdout",
     "output_type": "stream",
     "text": [
      "5\n",
      "6.708203932499369\n",
      "25.942243542145693\n",
      "43.04648650006177\n"
     ]
    }
   ],
   "source": [
    "double Pytagore(double a, double b)\n",
    "{\n",
    "    return Math.Sqrt(Math.Pow(a,2) + Math.Pow(b,2));\n",
    "}\n",
    "\n",
    "Console.WriteLine(Pytagore(3,4)); // 5\n",
    "Console.WriteLine(Pytagore(3,6)); // 6.7082...\n",
    "Console.WriteLine(Pytagore(12,23)); // 25.9422...\n",
    "Console.WriteLine(Pytagore(2,43)); // 43.0464..."
   ]
  },
  {
   "cell_type": "markdown",
   "metadata": {},
   "source": [
    "Écrire une fonction DoubleToInt qui prend 2 paramètres.  Un double à convertir en int et un chiffre qui définit la méthode de convertion des décimales.\n",
    "- Si le 2e paramètre est inférieur à zéro, on convertie le double en int en faisant un plancher avec les décimales.\n",
    "- Si le 2e paramètre est égale à zéro, on convertie le double en int en arrondissant les décimales.\n",
    "- Si le 2e paramètre est supérieur à zéro, on convertie le double en int en faisant un plafond avec les décimales."
   ]
  },
  {
   "cell_type": "code",
   "execution_count": 5,
   "metadata": {
    "dotnet_interactive": {
     "language": "csharp"
    },
    "polyglot_notebook": {
     "kernelName": "csharp"
    },
    "vscode": {
     "languageId": "polyglot-notebook"
    }
   },
   "outputs": [
    {
     "name": "stdout",
     "output_type": "stream",
     "text": [
      "3\n",
      "3\n",
      "3\n",
      "4\n",
      "4\n",
      "4\n"
     ]
    }
   ],
   "source": [
    "int DoubleToInt(double a, int type){\n",
    "    if(type < 0){\n",
    "        return Convert.ToInt32(Math.Floor(a));\n",
    "    }\n",
    "    else if(type > 0){\n",
    "        return Convert.ToInt32(Math.Ceiling(a));\n",
    "    }\n",
    "    else{\n",
    "        return Convert.ToInt32(Math.Round(a));\n",
    "    }\n",
    "}\n",
    "Console.WriteLine(DoubleToInt(3.345,-1)); // 3\n",
    "Console.WriteLine(DoubleToInt(3.745,-6)); // 3\n",
    "Console.WriteLine(DoubleToInt(3.345,0)); // 3\n",
    "Console.WriteLine(DoubleToInt(3.745,0)); // 4\n",
    "Console.WriteLine(DoubleToInt(3.345,1)); // 4\n",
    "Console.WriteLine(DoubleToInt(3.745,14)); // 4"
   ]
  },
  {
   "cell_type": "markdown",
   "metadata": {},
   "source": [
    "Écrire une fonction GénérerNimporteQuoi.  La fonction prend en paramètre un chiffre qui représente le nombre de chiffre aléatoire entre 0 et 100 à générer.  La fonction affiche ensuite dans la console les éléments suivantes:\n",
    "- Le chiffre le plus élevé.\n",
    "- Le chiffre le moins élevé.\n",
    "- La somme de tout les chiffres.\n",
    "- La moyenne de tout les chiffres."
   ]
  },
  {
   "cell_type": "code",
   "execution_count": 28,
   "metadata": {
    "dotnet_interactive": {
     "language": "csharp"
    },
    "polyglot_notebook": {
     "kernelName": "csharp"
    },
    "vscode": {
     "languageId": "polyglot-notebook"
    }
   },
   "outputs": [
    {
     "name": "stdout",
     "output_type": "stream",
     "text": [
      "Max: 88 Min: 47 Moyenne: 66.2 Somme: 331\n",
      "Max: 99 Min: 0 Moyenne: 49.509532 Somme: 49509532\n"
     ]
    }
   ],
   "source": [
    "void GénérerNimporteQuoi(int n){\n",
    "    Random rand = new Random();\n",
    "    int[] tab = new int[n];\n",
    "    for(int i = 0; i < n; i++){\n",
    "        tab[i] = rand.Next(0,100);\n",
    "    }\n",
    "    Console.WriteLine($\"Max: {tab.Max()} Min: {tab.Min()} Moyenne: {tab.Average()} Somme: {tab.Sum()}\");\n",
    "}\n",
    "GénérerNimporteQuoi(5); // Max: 99 Min: 1 Moyenne: 52 Somme: 260\n",
    "GénérerNimporteQuoi(1000000); // Max: 99 Min: 0 Moyenne: 49.509532 Somme: 49509532"
   ]
  }
 ],
 "metadata": {
  "kernelspec": {
   "display_name": ".NET (C#)",
   "language": "C#",
   "name": ".net-csharp"
  },
  "language_info": {
   "name": "python"
  },
  "polyglot_notebook": {
   "kernelInfo": {
    "defaultKernelName": "csharp",
    "items": [
     {
      "aliases": [],
      "name": "csharp"
     }
    ]
   }
  }
 },
 "nbformat": 4,
 "nbformat_minor": 2
}
